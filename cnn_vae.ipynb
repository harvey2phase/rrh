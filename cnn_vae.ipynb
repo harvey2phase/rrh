{
  "nbformat": 4,
  "nbformat_minor": 0,
  "metadata": {
    "accelerator": "GPU",
    "colab": {
      "name": "cnn_vae.ipynb",
      "provenance": [],
      "collapsed_sections": [],
      "toc_visible": true,
      "include_colab_link": true
    },
    "kernelspec": {
      "display_name": "Python 3",
      "name": "python3"
    }
  },
  "cells": [
    {
      "cell_type": "markdown",
      "metadata": {
        "id": "view-in-github",
        "colab_type": "text"
      },
      "source": [
        "<a href=\"https://colab.research.google.com/github/harvey2phase/rrh-MNIST/blob/main/cnn_vae.ipynb\" target=\"_parent\"><img src=\"https://colab.research.google.com/assets/colab-badge.svg\" alt=\"Open In Colab\"/></a>"
      ]
    },
    {
      "cell_type": "code",
      "metadata": {
        "id": "E-tpEynz7GP7",
        "colab": {
          "base_uri": "https://localhost:8080/"
        },
        "outputId": "c1423879-fe77-4c11-c32b-3f6593247207"
      },
      "source": [
        "from google.colab import drive\n",
        "GDRIVE = '/content/gdrive'\n",
        "drive.mount(GDRIVE)"
      ],
      "execution_count": null,
      "outputs": [
        {
          "output_type": "stream",
          "text": [
            "Drive already mounted at /content/gdrive; to attempt to forcibly remount, call drive.mount(\"/content/gdrive\", force_remount=True).\n"
          ],
          "name": "stdout"
        }
      ]
    },
    {
      "cell_type": "markdown",
      "metadata": {
        "id": "w3YjSP3vA5Jc"
      },
      "source": [
        "# Setup"
      ]
    },
    {
      "cell_type": "code",
      "metadata": {
        "id": "Gq23LXs7lbpj"
      },
      "source": [
        "import os\n",
        "\n",
        "MY_DRIVE = \"/content/gdrive/My Drive/\"\n",
        "\n",
        "def mkdir(path):\n",
        "    if os.path.exists(path):\n",
        "        print(\"Directory %s already exists!\" % path)\n",
        "    else:\n",
        "        try:\n",
        "            os.mkdir(path)\n",
        "        except OSError:\n",
        "            print(\"Creation of the directory %s failed\" % path)\n",
        "        else:\n",
        "            print(\"Successfully created the directory %s \" % path)"
      ],
      "execution_count": null,
      "outputs": []
    },
    {
      "cell_type": "code",
      "metadata": {
        "id": "2JmIrFw-0GXL"
      },
      "source": [
        "import seaborn as sns\n",
        "sns.set()"
      ],
      "execution_count": null,
      "outputs": []
    },
    {
      "cell_type": "code",
      "metadata": {
        "id": "nlBt0FWz8iXu"
      },
      "source": [
        "import datetime\n",
        "\n",
        "import urllib\n",
        "import numpy as np\n",
        "import matplotlib.pyplot as plt"
      ],
      "execution_count": null,
      "outputs": []
    },
    {
      "cell_type": "code",
      "metadata": {
        "id": "TFpBblS_eLg1"
      },
      "source": [
        "import torch\n",
        "import torch.nn as nn\n",
        "import torch.nn.functional as F\n",
        "import torchvision.utils\n",
        "import torchvision.transforms as transforms\n",
        "\n",
        "from torch.utils.data import DataLoader\n",
        "from torchvision.datasets import MNIST\n",
        "from torch.optim.lr_scheduler import StepLR\n",
        "\n",
        "GPU = True\n",
        "device = torch.device(\"cuda:0\" if GPU and torch.cuda.is_available() else \"cpu\")"
      ],
      "execution_count": null,
      "outputs": []
    },
    {
      "cell_type": "markdown",
      "metadata": {
        "id": "niGEaxzxYswO"
      },
      "source": [
        "## Debugging Tools"
      ]
    },
    {
      "cell_type": "code",
      "metadata": {
        "id": "6ZnAAVAg-cYx"
      },
      "source": [
        "def plot(x, x_recon, kind):\n",
        "    count = 0\n",
        "    if kind == \"train\":\n",
        "        recon_c = \"red\"\n",
        "    else:\n",
        "        recon_c = \"green\"\n",
        "    for i in range(1):\n",
        "        fig = plt.figure()\n",
        "        ax = fig.add_subplot(111)\n",
        "        ax.scatter(np.linspace(0, 127, 128), x.detach().cpu()[i], c = \"blue\")\n",
        "        ax.scatter(np.linspace(0, 127, 128), x_recon.detach().cpu()[i], c = recon_c)\n",
        "        plt.show()"
      ],
      "execution_count": null,
      "outputs": []
    },
    {
      "cell_type": "markdown",
      "metadata": {
        "id": "hfwhdEx46mFx"
      },
      "source": [
        "# Load MNIST"
      ]
    },
    {
      "cell_type": "code",
      "metadata": {
        "id": "Z2bEMXVEECsk"
      },
      "source": [
        "BATCH_SIZE = 64"
      ],
      "execution_count": null,
      "outputs": []
    },
    {
      "cell_type": "code",
      "metadata": {
        "id": "R9VbzfzV47ON"
      },
      "source": [
        "def load_mnist(train, batch_size = BATCH_SIZE):\n",
        "    img_transform = transforms.Compose([\n",
        "        transforms.ToTensor(),\n",
        "        #transforms.Normalize((0.1307,), (0.3081,)),\n",
        "    ])\n",
        "    \n",
        "    return DataLoader(\n",
        "        dataset = MNIST(\n",
        "            root = './data/MNIST',\n",
        "            download = True,\n",
        "            train = train,\n",
        "            transform = img_transform,\n",
        "        ),\n",
        "        batch_size = batch_size,\n",
        "        shuffle = train,\n",
        "        drop_last = train,\n",
        "    )\n",
        "    \n",
        "def to_numpy_arrays(dataloader):\n",
        "    data = list(dataloader)\n",
        "    data = [[sample[0].numpy(), sample[1].numpy()] for sample in data]\n",
        "    X = np.vstack([sample[0] for sample in data])\n",
        "    y = np.hstack([sample[1] for sample in data])\n",
        "    return X, y"
      ],
      "execution_count": null,
      "outputs": []
    },
    {
      "cell_type": "code",
      "metadata": {
        "id": "6YOXgKK0jsIr"
      },
      "source": [
        "train_dataloader = load_mnist(True)\n",
        "test_dataloader = load_mnist(False)\n",
        "\n",
        "TEST_LEN = len(test_dataloader.dataset)\n",
        "\n",
        "train_X, train_y = to_numpy_arrays(train_dataloader)\n",
        "test_X, test_y = to_numpy_arrays(test_dataloader)"
      ],
      "execution_count": null,
      "outputs": []
    },
    {
      "cell_type": "markdown",
      "metadata": {
        "id": "ugFXXKS40L21"
      },
      "source": [
        "# Model Definitions"
      ]
    },
    {
      "cell_type": "code",
      "metadata": {
        "id": "SNN5g5cThMYp"
      },
      "source": [
        "def freeze(model):\n",
        "    for param in model.parameters():\n",
        "        param.requires_grad = False"
      ],
      "execution_count": null,
      "outputs": []
    },
    {
      "cell_type": "markdown",
      "metadata": {
        "id": "tMvoDB4Pz-fN"
      },
      "source": [
        "## CNN"
      ]
    },
    {
      "cell_type": "code",
      "metadata": {
        "id": "hQxQ4mV866aL"
      },
      "source": [
        "CNN_EPOCH = 14\n",
        "LR = 1.0\n",
        "GAMMA = 0.7\n",
        "LOG_INT = 10"
      ],
      "execution_count": null,
      "outputs": []
    },
    {
      "cell_type": "code",
      "metadata": {
        "id": "Q3NMdQ3IEksj"
      },
      "source": [
        "class Net(nn.Module):\n",
        "    def __init__(self):\n",
        "        super(Net, self).__init__()\n",
        "        self.conv1 = nn.Conv2d(1, 32, 3, 1)\n",
        "        self.conv2 = nn.Conv2d(32, 64, 3, 1)\n",
        "        self.dropout1 = nn.Dropout(0.25)\n",
        "        self.dropout2 = nn.Dropout(0.5)\n",
        "        self.fc1 = nn.Linear(9216, 128)\n",
        "        self.fc2 = nn.Linear(128, 10)\n",
        "\n",
        "    def forward(self, x):\n",
        "        x = self.penultimate_layers(x)\n",
        "        x = F.relu(x)\n",
        "        x = self.dropout2(x)\n",
        "        x = self.fc2(x)\n",
        "        \n",
        "        return F.log_softmax(x, dim=1)\n",
        "\n",
        "    def penultimate_layers(self, x):\n",
        "        x = self.conv1(x)\n",
        "        x = F.relu(x)\n",
        "        x = self.conv2(x)\n",
        "        x = F.relu(x)\n",
        "        x = F.max_pool2d(x, 2)\n",
        "        x = self.dropout1(x)\n",
        "        x = torch.flatten(x, 1)\n",
        "        x = self.fc1(x)\n",
        "        return x"
      ],
      "execution_count": null,
      "outputs": []
    },
    {
      "cell_type": "markdown",
      "metadata": {
        "id": "Ltsr1tE-3o4Z"
      },
      "source": [
        "### Training and Evaluation"
      ]
    },
    {
      "cell_type": "code",
      "metadata": {
        "id": "Zw9LQeR8z__y"
      },
      "source": [
        "def train(model, optimizer):\n",
        "    model.train()\n",
        "    total_loss, samples = 0, 0\n",
        "    \n",
        "    for batch_idx, (data, target) in enumerate(train_dataloader):\n",
        "        data, target = data.to(device), target.to(device)\n",
        "        optimizer.zero_grad()\n",
        "        output = model(data)\n",
        "        loss = F.nll_loss(output, target)\n",
        "        loss.backward()\n",
        "        optimizer.step()\n",
        "        \n",
        "        total_loss += loss.item()\n",
        "        samples += len(data)\n",
        "        \n",
        "        if batch_idx % args.log_interval == 0:\n",
        "            print('Train Epoch: {} [{}/{} ({:.0f}%)]\\tLoss: {:.6f}'.format(\n",
        "                epoch, batch_idx * len(data), len(train_loader.dataset),\n",
        "                100. * batch_idx / len(train_loader), loss.item()))\n",
        "\n",
        "def test(model, train = False):\n",
        "    model.eval()\n",
        "    if train:\n",
        "        model.train()\n",
        "        \n",
        "    test_loss = 0\n",
        "    correct = 0\n",
        "    with torch.no_grad():\n",
        "        for data, target in test_dataloader:\n",
        "            data, target = data.to(device), target.to(device)\n",
        "            output = model(data)\n",
        "            # sum up batch loss\n",
        "            test_loss += F.nll_loss(output, target, reduction='sum').item()  \n",
        "            # get the index of the max log-probability\n",
        "            pred = output.argmax(dim = 1, keepdim = True)  \n",
        "            correct += pred.eq(target.view_as(pred)).sum().item()\n",
        "\n",
        "    test_loss /= TEST_LEN\n",
        "\n",
        "    if train == True:\n",
        "        train = \"train\"\n",
        "    else:\n",
        "        train = \"eval\"\n",
        "    print(\n",
        "        'Test ({}) set: Average loss: {:.4f}, Accuracy: {}/{} ({:.0f}%)'.format(\n",
        "            train, test_loss, correct, TEST_LEN, 100. * correct / TEST_LEN,\n",
        "        )\n",
        "    )"
      ],
      "execution_count": null,
      "outputs": []
    },
    {
      "cell_type": "markdown",
      "metadata": {
        "id": "aV6OHMOclUHL"
      },
      "source": [
        "### Train and save CNN"
      ]
    },
    {
      "cell_type": "code",
      "metadata": {
        "id": "m_tg2DAD7U3w"
      },
      "source": [
        "def create_and_train_cnn():\n",
        "    cnn = Net().to(device)\n",
        "    optimizer = torch.optim.Adadelta(cnn.parameters(), lr = LR)\n",
        "    \n",
        "    scheduler = StepLR(optimizer, step_size=1, gamma=GAMMA)\n",
        "    for epoch in range(1, CNN_EPOCH + 1):\n",
        "        train(cnn, optimizer)\n",
        "        test(cnn, train = True)\n",
        "        test(cnn)\n",
        "        scheduler.step()\n",
        "        \n",
        "    date = datetime.date.today().strftime(\"%m-%d\")\n",
        "    model_name = date + \"_epoch=\" + str(CNN_EPOCH) + \".pth\"\n",
        "    optimizer_name = date + \"_adadelta\" + \".pth\"\n",
        "    torch.save(cnn.state_dict(), MY_DRIVE + \"cnn/\" + model_name)\n",
        "    torch.save(optimizer.state_dict(), MY_DRIVE + \"cnn/\" + optimizer_name)\n",
        "    return cnn"
      ],
      "execution_count": null,
      "outputs": []
    },
    {
      "cell_type": "markdown",
      "metadata": {
        "id": "dmjXvenrSLpE"
      },
      "source": [
        "### Load saved CNN"
      ]
    },
    {
      "cell_type": "code",
      "metadata": {
        "id": "kvAJ5sBODp5e"
      },
      "source": [
        "def load_cnn(model_name, optimizer_name = None):\n",
        "    cnn = Net()\n",
        "    cnn.load_state_dict(torch.load(MY_DRIVE + \"cnn/\" + model_name))\n",
        "    cnn.to(device)\n",
        "    return cnn"
      ],
      "execution_count": null,
      "outputs": []
    },
    {
      "cell_type": "markdown",
      "metadata": {
        "id": "kAg4fEcS9156"
      },
      "source": [
        "## VAE"
      ]
    },
    {
      "cell_type": "code",
      "metadata": {
        "id": "9FtjJQ7PPNIm"
      },
      "source": [
        "LAT_DIM = 2\n",
        "OBS_DIM = 128\n",
        "CAPACITY1 = 128 * 2 ** 5\n",
        "CAPACITY2 = 64 * 2 ** 5\n",
        "LRN_RATE = 1e-3\n",
        "WEIGHT_DECAY = 1e-5\n",
        "VAR_BETA = 1\n",
        "VAE_EPOCH = 70\n",
        "#DROPOUT_PROB = 0.5"
      ],
      "execution_count": null,
      "outputs": []
    },
    {
      "cell_type": "code",
      "metadata": {
        "id": "PCQPtw5a3DQI"
      },
      "source": [
        "class Encoder(nn.Module):\n",
        "    def __init__(self):\n",
        "        super(Encoder, self).__init__()\n",
        "        \n",
        "        self.hidden1 = nn.Linear(\n",
        "            in_features = OBS_DIM,\n",
        "            out_features = CAPACITY1,\n",
        "        )\n",
        "        \n",
        "        self.hidden2 = nn.Linear(\n",
        "            in_features = CAPACITY1,\n",
        "            out_features = CAPACITY2,\n",
        "        )\n",
        "        \n",
        "        self.bn1 = nn.BatchNorm1d(CAPACITY1)\n",
        "        self.bn2 = nn.BatchNorm1d(CAPACITY2)\n",
        "        \n",
        "        self.fc_mu = nn.Linear(\n",
        "            in_features = CAPACITY2,\n",
        "            out_features = LAT_DIM,\n",
        "        )\n",
        "        self.fc_logvar = nn.Linear(\n",
        "            in_features = CAPACITY2,\n",
        "            out_features = LAT_DIM,\n",
        "        )\n",
        "        \n",
        "    def forward(self, x):\n",
        "        x = self.hidden1(x)\n",
        "        x = self.bn1(x)\n",
        "        x = F.relu(x)\n",
        "        \n",
        "        x = self.hidden2(x)\n",
        "        x = self.bn2(x)\n",
        "        x = F.relu(x)\n",
        "        \n",
        "        x_mu = self.fc_mu(x)\n",
        "        x_logvar = self.fc_logvar(x)\n",
        "        return x_mu, x_logvar\n",
        "\n",
        "class Decoder(nn.Module):\n",
        "    def __init__(self):\n",
        "        super(Decoder, self).__init__()\n",
        "        \n",
        "        self.hidden1 = nn.Linear(\n",
        "            in_features = LAT_DIM,\n",
        "            out_features = CAPACITY2,\n",
        "        )\n",
        "        self.hidden2 = nn.Linear(\n",
        "            in_features = CAPACITY2,\n",
        "            out_features = CAPACITY1,\n",
        "        )\n",
        "        \n",
        "        self.bn1 = nn.BatchNorm1d(CAPACITY2)\n",
        "        self.bn2 = nn.BatchNorm1d(CAPACITY1)\n",
        "        \n",
        "        self.output = nn.Linear(\n",
        "            in_features = CAPACITY1,\n",
        "            out_features = OBS_DIM,\n",
        "        )\n",
        "\n",
        "    def forward(self, x):\n",
        "        x = self.hidden1(x)\n",
        "        x = self.bn1(x)\n",
        "        x = F.relu(x)\n",
        "        \n",
        "        x = self.hidden2(x)\n",
        "        x = self.bn2(x)\n",
        "        x = F.relu(x)\n",
        "        x = self.output(x)\n",
        "        \n",
        "        x = x.view(x.size(0), OBS_DIM)\n",
        "        return x\n",
        "\n",
        "class VariationalAutoencoder(nn.Module):\n",
        "    def __init__(self):\n",
        "        super(VariationalAutoencoder, self).__init__()\n",
        "        \n",
        "        self.encoder = Encoder()\n",
        "        self.decoder = Decoder()\n",
        "\n",
        "    def forward(self, x):\n",
        "        latent_mu, latent_logvar = self.encoder(x)\n",
        "        latent = self.latent_sample(latent_mu, latent_logvar)\n",
        "        x_recon = self.decoder(latent)\n",
        "        return x_recon, latent_mu, latent_logvar\n",
        "\n",
        "    def latent_sample(self, mu, logvar):\n",
        "        if self.training:\n",
        "            # the reparameterization trick\n",
        "            std = logvar.mul(0.5).exp_()\n",
        "            eps = torch.empty_like(std).normal_()\n",
        "            return eps.mul(std).add_(mu)\n",
        "        else:\n",
        "            return mu"
      ],
      "execution_count": null,
      "outputs": []
    },
    {
      "cell_type": "code",
      "metadata": {
        "id": "e2CrBYQU4e8r"
      },
      "source": [
        "def reconstruction_error(recon_x, x):\n",
        "    return F.mse_loss(\n",
        "        recon_x.view(-1, OBS_DIM),\n",
        "        x.view(-1, OBS_DIM),\n",
        "        reduction = \"sum\",\n",
        "    )\n",
        "\n",
        "def vae_loss(recon_loss, mu, logvar):\n",
        "    kl_divergence = -0.5 * torch.sum(1 + logvar - mu.pow(2) - logvar.exp())\n",
        "    return recon_loss + VAR_BETA * kl_divergence"
      ],
      "execution_count": null,
      "outputs": []
    },
    {
      "cell_type": "markdown",
      "metadata": {
        "id": "N7XQuBW63DmN"
      },
      "source": [
        "### Training and Evaluation\n",
        "\n"
      ]
    },
    {
      "cell_type": "code",
      "metadata": {
        "id": "Lb5IpN6M3KKk"
      },
      "source": [
        "def train_vae(vae, optimizer, evaluate = True):\n",
        "    \n",
        "    vae.train()\n",
        "    \n",
        "    num_params = sum(p.numel() for p in vae.parameters() if p.requires_grad)\n",
        "    print('Number of parameters: %d' % num_params)\n",
        "    \n",
        "    if evaluate:\n",
        "        train_loss, train_recon_loss = [], []\n",
        "        test_train_loss, test_train_recon_loss = [], []\n",
        "        test_eval_loss, test_eval_recon_loss = [], []\n",
        "    \n",
        "    print(\"Training: \", end = \"\")\n",
        "    for epoch in range(VAE_EPOCH):\n",
        "        if evaluate:\n",
        "            train_loss.append(0)\n",
        "            train_recon_loss.append(0)\n",
        "            image_count = 0\n",
        "        \n",
        "        for image_batch, _ in train_dataloader:\n",
        "            \n",
        "            image_batch = image_batch.to(device)\n",
        "            image_batch = cnn.penultimate_layers(image_batch)\n",
        "    \n",
        "            image_batch_recon, latent_mu, latent_logvar = vae(image_batch)\n",
        "            #plot(image_batch, image_batch_recon, kind = \"train\")\n",
        "            \n",
        "            recon_loss = reconstruction_error(image_batch_recon, image_batch)\n",
        "            loss = vae_loss(recon_loss, latent_mu, latent_logvar)\n",
        "            \n",
        "            optimizer.zero_grad()\n",
        "            loss.backward()\n",
        "            optimizer.step()\n",
        "            \n",
        "            if evaluate:\n",
        "                train_loss[-1] += loss.item()\n",
        "                train_recon_loss[-1] += recon_loss\n",
        "                \n",
        "                image_count += len(image_batch)\n",
        "            \n",
        "        if evaluate:\n",
        "            vae.train()\n",
        "            train_loss[-1] /= image_count\n",
        "            train_recon_loss[-1] /= image_count\n",
        "        \n",
        "            vae.train()\n",
        "            recon_loss_avg, loss_avg = eval_vae(vae)\n",
        "            test_train_loss.append(loss_avg)\n",
        "            test_train_recon_loss.append(recon_loss_avg)\n",
        "\n",
        "            vae.eval()\n",
        "            recon_loss_avg, loss_avg = eval_vae(vae)\n",
        "            test_eval_loss.append(loss_avg)\n",
        "            test_eval_recon_loss.append(recon_loss_avg)\n",
        "            \n",
        "            vae.train()\n",
        "        \n",
        "        print(\"%d, \" % (epoch+1), end = \"\")\n",
        "        \n",
        "    print()\n",
        "    if evaluate:\n",
        "        return (\n",
        "            vae, optimizer,\n",
        "            [np.array(train_loss), np.array(train_recon_loss)],\n",
        "            [np.array(test_train_loss), np.array(test_train_recon_loss)],\n",
        "            [np.array(test_eval_loss), np.array(test_eval_recon_loss)],\n",
        "        )\n",
        "    return vae, optimizer\n",
        "    \n",
        "def eval_vae(vae):\n",
        "    \n",
        "    test_loss, test_recon_loss = 0, 0\n",
        "    image_count = 0\n",
        "    for image_batch, _ in test_dataloader:\n",
        "        \n",
        "        with torch.no_grad():\n",
        "        \n",
        "            image_batch = image_batch.to(device)\n",
        "            image_batch = cnn.penultimate_layers(image_batch)\n",
        "    \n",
        "            image_batch_recon, latent_mu, latent_logvar = vae(image_batch)\n",
        "            #plot(image_batch, image_batch_recon, kind = \"test\")\n",
        "            \n",
        "            recon_loss = reconstruction_error(image_batch_recon, image_batch)\n",
        "            loss = vae_loss(recon_loss, latent_mu, latent_logvar)\n",
        "    \n",
        "            test_recon_loss += recon_loss\n",
        "            test_loss += loss.item()\n",
        "            \n",
        "            image_count += len(image_batch)\n",
        "        \n",
        "    return test_recon_loss / image_count, test_loss / image_count"
      ],
      "execution_count": null,
      "outputs": []
    },
    {
      "cell_type": "code",
      "metadata": {
        "id": "2FVd05s4I4YM"
      },
      "source": [
        "def plot_loss(train_losses, test_train_losses, test_eval_losses):\n",
        "    plt.ion()\n",
        "\n",
        "    plotlabels = [\"Total error\", \"Reconstruction error\", \"KL divergence\"]\n",
        "    train_losses.append(train_losses[0] - train_losses[1])\n",
        "    test_train_losses.append(test_train_losses[0] - test_train_losses[1])\n",
        "    test_eval_losses.append(test_eval_losses[0] - test_eval_losses[1])\n",
        "    \n",
        "    ncols = 3\n",
        "    fig, ax = plt.subplots(ncols = ncols, figsize = (9, 2.5))\n",
        "    \n",
        "    for i in range(ncols): \n",
        "        ax[i].plot(train_losses[i], c = \"blue\", label = \"training\")\n",
        "        ax[i].plot(test_train_losses[i], c = \"green\", label = \"test (train)\")\n",
        "        ax[i].plot(test_eval_losses[i], c = \"red\", label = \"test (eval)\")\n",
        "            \n",
        "        ax[i].set_title(plotlabels[i])\n",
        "        \n",
        "    plt.tight_layout()\n",
        "    plt.legend()\n",
        "    #plt.show()\n",
        "    plt.savefig(os.path.join(RESULTS_FOLDER, \"training_curve.png\"), dpi = 600)"
      ],
      "execution_count": null,
      "outputs": []
    },
    {
      "cell_type": "markdown",
      "metadata": {
        "id": "FLxjmlgD0-li"
      },
      "source": [
        "### Load VAE"
      ]
    },
    {
      "cell_type": "code",
      "metadata": {
        "id": "r2ezL3qLdsaj"
      },
      "source": [
        "def new_vae():\n",
        "    vae = VariationalAutoencoder()\n",
        "    vae = vae.to(device)\n",
        "    \n",
        "    optimizer = torch.optim.Adam(\n",
        "        params = vae.parameters(),\n",
        "        lr = LRN_RATE,\n",
        "        weight_decay = WEIGHT_DECAY,\n",
        "    )\n",
        "    return vae, optimizer"
      ],
      "execution_count": null,
      "outputs": []
    },
    {
      "cell_type": "code",
      "metadata": {
        "id": "JzBI7hT1Ybpd"
      },
      "source": [
        "def load_vae(folder_name, vae_name, optimizer_name = \"adam.pth\"):\n",
        "    folder_name = os.path.join(RESULTS, folder_name)\n",
        "    \n",
        "    vae = VariationalAutoencoder()\n",
        "    vae.load_state_dict(torch.load(os.path.join(folder_name, vae_name)))\n",
        "    vae.to(device)\n",
        "    optimizer = torch.optim.Adam(\n",
        "        params = vae.parameters(),\n",
        "        lr = LRN_RATE,\n",
        "        weight_decay = WEIGHT_DECAY,\n",
        "    )\n",
        "    optimizer.load_state_dict(torch.load(\n",
        "        os.path.join(folder_name, optimizer_name)\n",
        "    ))\n",
        "    return vae, optimizer"
      ],
      "execution_count": null,
      "outputs": []
    },
    {
      "cell_type": "markdown",
      "metadata": {
        "id": "bxImy1XR6FHR"
      },
      "source": [
        "# RRH for Gaussian Mixtures"
      ]
    },
    {
      "cell_type": "code",
      "metadata": {
        "id": "2H2L9XvS6Kwj"
      },
      "source": [
        "def scale_to_cov(scales):\n",
        "    return np.vstack([np.expand_dims(np.diagflat(s), 0) for s in scales])\n",
        "\n",
        "def pool_covariance(means, covs):\n",
        "    K = covs.shape[0] \n",
        "    p = np.repeat(1/K, K)\n",
        "    cov_ = np.einsum('ijk,i->jk', covs, p) + np.einsum('ij,ik,i->jk', means, means, p)\n",
        "    mu_ = np.einsum('ij,i->j', means, p)\n",
        "    return cov_ - np.einsum('i,j->ij', mu_, mu_)\n",
        "    \n",
        "def mvn_renyi(C, q=1):\n",
        "    \"\"\" Computes the Rényi heterogeneity for a multivariate Gaussian \n",
        "    Arguments: \n",
        "        C: `ndarray((n,n))`. Covariance matrix\n",
        "        q: `0<float`. Order of the heterogeneity\n",
        "    Returns: \n",
        "        `float`\n",
        "    \"\"\"\n",
        "    n = C.shape[0]\n",
        "    SqrtDetC = np.sqrt(np.linalg.det(C))\n",
        "    if q == 1: \n",
        "        out = (2*np.pi*np.e)**(n/2) * SqrtDetC\n",
        "    elif q == np.inf: \n",
        "        out = (2*np.pi)**(n/2) * SqrtDetC\n",
        "    elif q!=1 and q!=0 and q!=np.inf:\n",
        "        out = ((2*np.pi)**(n/2))*(q**(n/(2*(q-1))))*SqrtDetC\n",
        "    return out\n",
        "\n",
        "def mvn_renyi_alpha(C,  q=1):\n",
        "    \"\"\" Computes the alpha-heterogeneity for a Gaussian mixture where each sample has equal weight\n",
        "\n",
        "    Arguments: \n",
        "\n",
        "        cov: `ndarray((nsamples, n, n))`. Covariance matrices \n",
        "        q: `0<float`. Order of the heterogeneity metric\n",
        "\n",
        "    Returns: \n",
        "\n",
        "        `float`. The alpha-heterogeneity\n",
        "    \"\"\"\n",
        "    K, n, _ = C.shape\n",
        "    p = np.repeat(1/K, K)\n",
        "    if q == 1:\n",
        "        out = np.exp((n + np.sum(p*np.log(np.linalg.det(2*np.pi*C))))/2)\n",
        "    elif q!=np.inf and q!=1 and q!=0:\n",
        "        wbar = (p**q)/np.sum(p**q)\n",
        "        out = ((2*np.pi)**(n/2))*np.sum(wbar*np.sqrt(np.linalg.det(C)))/(q**(n/2))**(1/(1-q))\n",
        "    return out"
      ],
      "execution_count": null,
      "outputs": []
    },
    {
      "cell_type": "markdown",
      "metadata": {
        "id": "RG67lA7u6pAY"
      },
      "source": [
        "## Calculation"
      ]
    },
    {
      "cell_type": "code",
      "metadata": {
        "id": "IinU-xeM6fg_"
      },
      "source": [
        "def calculate_rrh(vae, X, y):\n",
        "    gammas, alphas, betas = [], [], []\n",
        "    for i in range(10):\n",
        "        mu, logvar = vae.encoder(\n",
        "            cnn.penultimate_layers(torch.Tensor(X[y == i]).to(device)),\n",
        "        )\n",
        "        loc = mu.cpu().detach().numpy()\n",
        "        scale = logvar.exp().cpu().detach().numpy()\n",
        "        cov = scale_to_cov(scale)\n",
        "        gamma = mvn_renyi(pool_covariance(loc, cov), q=1)\n",
        "        alpha = mvn_renyi_alpha(cov,q=1)\n",
        "        beta = gamma/alpha\n",
        "        gammas.append(gamma)\n",
        "        alphas.append(alpha)\n",
        "        betas.append(beta)\n",
        "    return np.array(gammas), np.array(alphas), np.array(betas)\n",
        "\n",
        "\n",
        "def het_sigma(matrix, avg = None):\n",
        "    if avg == None:\n",
        "        avg = het_avg(matrix)\n",
        "    n = len(matrix)\n",
        "    mse = (matrix[0] - avg) ** 2\n",
        "    for i in range(1, n):\n",
        "        mse += (matrix[i] - avg) ** 2\n",
        "    return np.sqrt(mse / n)\n",
        "\n",
        "def het_sum(matrix):\n",
        "    sum = matrix[0] + matrix[1]\n",
        "    for i in range(2, len(matrix)):\n",
        "        sum += matrix[i]\n",
        "    return sum\n",
        "\n",
        "def het_avg(matrix):\n",
        "    return het_sum(matrix) / len(matrix)"
      ],
      "execution_count": null,
      "outputs": []
    },
    {
      "cell_type": "markdown",
      "metadata": {
        "id": "PmOtP6Lb1Rro"
      },
      "source": [
        "## Plotting"
      ]
    },
    {
      "cell_type": "code",
      "metadata": {
        "id": "45NMm0ye1Qln"
      },
      "source": [
        "def plot_rrh(gammas, alphas, betas, filename, sigmas = None):\n",
        "    if not (len(gammas) == len(alphas) or len(gammas) == len(betas)):\n",
        "        sys.exit(\"Mismatched matrix size\")\n",
        "    n = len(gammas)\n",
        "    hetvalues = [gammas, alphas, betas]\n",
        "    plotlabels = [r\"Pooled\", r\"Within-Observation\", r\"Between-Observation\"]\n",
        "    \n",
        "    fig, ax = plt.subplots(ncols=3, figsize=(9, 2.5))\n",
        "    ax[0].set_ylabel(\"Heterogeneity\")\n",
        "    \n",
        "    for i in range(3): \n",
        "        ax[i].set_title(plotlabels[i])\n",
        "        ax[i].set_xticks(np.arange(10))\n",
        "        ax[i].set_xticklabels(np.arange(10))\n",
        "        ax[i].bar(\n",
        "            np.arange(10),\n",
        "            hetvalues[i],\n",
        "            facecolor = plt.get_cmap(\"Greys\")(0.4), \n",
        "            edgecolor = \"black\",\n",
        "        )\n",
        "        if not sigmas == None:\n",
        "            ax[i].errorbar(\n",
        "                np.arange(10),\n",
        "                hetvalues[i],\n",
        "                yerr = sigmas[i],\n",
        "                fmt = \"none\",\n",
        "                ecolor = \"r\",\n",
        "                capsize = 3,\n",
        "                label = \"std deviation\",\n",
        "            )\n",
        "            ax[i].errorbar(\n",
        "                np.arange(10),\n",
        "                hetvalues[i],\n",
        "                yerr = sigmas[i] / np.sqrt(n),\n",
        "                fmt = \"none\",\n",
        "                ecolor = \"b\",\n",
        "                capsize = 3,\n",
        "                label = \"std error\",\n",
        "            )\n",
        "    plt.tight_layout()\n",
        "    #plt.show()\n",
        "    plt.savefig(os.path.join(RESULTS_FOLDER, filename + \".png\"), dpi = 600)"
      ],
      "execution_count": null,
      "outputs": []
    },
    {
      "cell_type": "markdown",
      "metadata": {
        "id": "nneHSghNV0qN"
      },
      "source": [
        "# Experiments"
      ]
    },
    {
      "cell_type": "code",
      "metadata": {
        "id": "dbjafI3aSErm",
        "colab": {
          "base_uri": "https://localhost:8080/"
        },
        "outputId": "4679a455-4e2b-414c-d8c9-29c511fc02d7"
      },
      "source": [
        "#cnn = create_and_train_cnn()\n",
        "cnn = load_cnn(\"12-19_epoch=14.pth\")\n",
        "freeze(cnn)\n",
        "cnn.eval()"
      ],
      "execution_count": null,
      "outputs": [
        {
          "output_type": "execute_result",
          "data": {
            "text/plain": [
              "Net(\n",
              "  (conv1): Conv2d(1, 32, kernel_size=(3, 3), stride=(1, 1))\n",
              "  (conv2): Conv2d(32, 64, kernel_size=(3, 3), stride=(1, 1))\n",
              "  (dropout1): Dropout(p=0.25, inplace=False)\n",
              "  (dropout2): Dropout(p=0.5, inplace=False)\n",
              "  (fc1): Linear(in_features=9216, out_features=128, bias=True)\n",
              "  (fc2): Linear(in_features=128, out_features=10, bias=True)\n",
              ")"
            ]
          },
          "metadata": {
            "tags": []
          },
          "execution_count": 103
        }
      ]
    },
    {
      "cell_type": "code",
      "metadata": {
        "id": "z3T9hTKgBrjy",
        "colab": {
          "base_uri": "https://localhost:8080/"
        },
        "outputId": "f21e6759-051a-4f30-a1ab-eb5789452789"
      },
      "source": [
        "RESULTS = os.path.join(MY_DRIVE, \"results/dropout\")\n",
        "mkdir(RESULTS)\n",
        "\n",
        "RESULTS_FOLDER = os.path.join(\n",
        "    RESULTS, datetime.datetime.now().strftime(\"%m-%d_%H-%M\"),\n",
        ")\n",
        "mkdir(RESULTS_FOLDER)"
      ],
      "execution_count": null,
      "outputs": [
        {
          "output_type": "stream",
          "text": [
            "Directory /content/gdrive/My Drive/results/dropout already exists!\n",
            "Successfully created the directory /content/gdrive/My Drive/results/dropout/12-19_01-43 \n"
          ],
          "name": "stdout"
        }
      ]
    },
    {
      "cell_type": "code",
      "metadata": {
        "id": "86cSR8lZ4AK7",
        "colab": {
          "base_uri": "https://localhost:8080/"
        },
        "outputId": "47e49a79-712e-4419-e7e4-226d95717a02"
      },
      "source": [
        "trained_epoch = 0\n",
        "\n",
        "#vae, optimizer = load_vae(\"12-18_18-38\", vae_name = \"vae_epoch=30.pth\")\n",
        "vae, optimizer = new_vae()\n",
        "\n",
        "vae, optimizer, train_losses, test_train_losses, test_eval_losses = train_vae(\n",
        "    vae, optimizer, evaluate = True,\n",
        ")\n",
        "\n",
        "torch.save(vae.state_dict(), os.path.join(\n",
        "    RESULTS_FOLDER, \"vae_epoch=\" + str(trained_epoch + VAE_EPOCH) + \".pth\"\n",
        "))\n",
        "torch.save(optimizer.state_dict(), os.path.join(RESULTS_FOLDER, \"adam.pth\"))\n",
        "with open(os.path.join(RESULTS_FOLDER, \"vae.txt\"), \"w+\") as f:\n",
        "    f.write(str(vae))\n",
        "drive.flush_and_unmount()\n",
        "drive.mount(GDRIVE)"
      ],
      "execution_count": null,
      "outputs": [
        {
          "output_type": "stream",
          "text": [
            "Number of parameters: 4743300\n",
            "Training: 1, 2, 3, 5, 6, 7, 8, 9, 10, 11, 12, 13, 14, 15, 16, 17, 18, 19, 20, 21, 22, 23, 24, 25, 26, 27, 28, 29, 30, 31, 32, 33, 34, 35, 36, 37, 38, 39, 40, 41, 42, 43, 44, 45, 46, 47, 48, 49, 50, \n",
            "Mounted at /content/gdrive\n"
          ],
          "name": "stdout"
        }
      ]
    },
    {
      "cell_type": "code",
      "metadata": {
        "id": "4T3nlJyTB04R",
        "colab": {
          "base_uri": "https://localhost:8080/",
          "height": 185
        },
        "outputId": "dad1396f-f030-416f-e085-d470b87158c2"
      },
      "source": [
        "plot_loss(train_losses, test_train_losses, test_eval_losses)"
      ],
      "execution_count": null,
      "outputs": [
        {
          "output_type": "display_data",
          "data": {
            "image/png": "[encoded data removed]",
            "text/plain": [
              "<Figure size 648x180 with 3 Axes>"
            ]
          },
          "metadata": {
            "tags": []
          }
        }
      ]
    },
    {
      "cell_type": "code",
      "metadata": {
        "id": "01jw4KimA0g4",
        "colab": {
          "base_uri": "https://localhost:8080/",
          "height": 185
        },
        "outputId": "45e457e7-420c-418d-bb97-76866693834d"
      },
      "source": [
        "vae.train()\n",
        "gammas, alphas, betas = calculate_rrh(vae, train_X, train_y)\n",
        "plot_rrh(gammas, alphas, betas, filename = \"het_train\")"
      ],
      "execution_count": null,
      "outputs": [
        {
          "output_type": "display_data",
          "data": {
            "image/png": "[encoded data removed]",
            "text/plain": [
              "<Figure size 648x180 with 3 Axes>"
            ]
          },
          "metadata": {
            "tags": []
          }
        }
      ]
    },
    {
      "cell_type": "code",
      "metadata": {
        "id": "QH0OPOV5ssIg",
        "colab": {
          "base_uri": "https://localhost:8080/",
          "height": 185
        },
        "outputId": "3407da11-4a60-4f55-c4b6-e0ef55890d4a"
      },
      "source": [
        "vae.eval()\n",
        "gammas, alphas, betas = calculate_rrh(vae, test_X, test_y)\n",
        "plot_rrh(gammas, alphas, betas, filename = \"het_test\")"
      ],
      "execution_count": null,
      "outputs": [
        {
          "output_type": "display_data",
          "data": {
            "image/png": "[encoded data removed]",
            "text/plain": [
              "<Figure size 648x180 with 3 Axes>"
            ]
          },
          "metadata": {
            "tags": []
          }
        }
      ]
    }
  ]
}