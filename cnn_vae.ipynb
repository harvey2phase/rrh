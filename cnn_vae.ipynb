{
  "nbformat": 4,
  "nbformat_minor": 0,
  "metadata": {
    "accelerator": "GPU",
    "colab": {
      "name": "cnn_vae.ipynb",
      "provenance": [],
      "collapsed_sections": [],
      "include_colab_link": true
    },
    "kernelspec": {
      "display_name": "Python 3",
      "name": "python3"
    }
  },
  "cells": [
    {
      "cell_type": "markdown",
      "metadata": {
        "id": "view-in-github",
        "colab_type": "text"
      },
      "source": [
        "<a href=\"https://colab.research.google.com/github/harvey2phase/rrh-MNIST/blob/main/cnn_vae.ipynb\" target=\"_parent\"><img src=\"https://colab.research.google.com/assets/colab-badge.svg\" alt=\"Open In Colab\"/></a>"
      ]
    },
    {
      "cell_type": "code",
      "metadata": {
        "id": "nlBt0FWz8iXu"
      },
      "source": [
        "import os\n",
        "import urllib\n",
        "import numpy as np\n",
        "import matplotlib.pyplot as plt\n",
        "\n",
        "import torch\n",
        "import torch.nn as nn\n",
        "import torch.nn.functional as F\n",
        "import torchvision.utils\n",
        "import torchvision.transforms as transforms\n",
        "\n",
        "from torch.utils.data import DataLoader\n",
        "from torchvision.datasets import MNIST\n",
        "\n",
        "import seaborn as sns"
      ],
      "execution_count": 1,
      "outputs": []
    },
    {
      "cell_type": "code",
      "metadata": {
        "id": "2JmIrFw-0GXL"
      },
      "source": [
        "sns.set()"
      ],
      "execution_count": 2,
      "outputs": []
    },
    {
      "cell_type": "code",
      "metadata": {
        "id": "TFpBblS_eLg1"
      },
      "source": [
        "GPU = True\n",
        "device = torch.device(\"cuda:0\" if GPU and torch.cuda.is_available() else \"cpu\")"
      ],
      "execution_count": 3,
      "outputs": []
    },
    {
      "cell_type": "markdown",
      "metadata": {
        "id": "hfwhdEx46mFx"
      },
      "source": [
        "# Load MNIST"
      ]
    },
    {
      "cell_type": "code",
      "metadata": {
        "id": "o8UxKtJy51hY"
      },
      "source": [
        "MAX_ROT_DEG = 15\n",
        "BATCH_SIZE = 128"
      ],
      "execution_count": 4,
      "outputs": []
    },
    {
      "cell_type": "code",
      "metadata": {
        "id": "R9VbzfzV47ON"
      },
      "source": [
        "img_transform = transforms.Compose([\n",
        "    transforms.ToTensor()\n",
        "])\n",
        "#rot_transform = transforms.RandomRotation(MAX_ROT_DEG)\n",
        "\n",
        "def load_mnist(train, batch_size = BATCH_SIZE):\n",
        "    dataset = MNIST(\n",
        "        root = './data/MNIST',\n",
        "        download = True,\n",
        "        train = train,\n",
        "        transform = img_transform,\n",
        "    )\n",
        "    return DataLoader(dataset, batch_size = batch_size, shuffle = True)\n",
        "\n"
      ],
      "execution_count": 5,
      "outputs": []
    },
    {
      "cell_type": "code",
      "metadata": {
        "id": "48Re9M0QYHy8"
      },
      "source": [
        "train_dataloader = load_mnist(train = True)\n",
        "test_dataloader = load_mnist(train = False)"
      ],
      "execution_count": null,
      "outputs": []
    },
    {
      "cell_type": "code",
      "metadata": {
        "id": "0IMlt_q67tJo"
      },
      "source": [
        "# Place into numpy arrays for easier manipulation\n",
        "traindata = list(train_dataloader)\n",
        "traindata = [[sample[0].numpy(), sample[1].numpy()] for sample in traindata]\n",
        "train_X = np.vstack([sample[0] for sample in traindata])\n",
        "train_y = np.hstack([sample[1] for sample in traindata])\n",
        "\n",
        "testdata = list(test_dataloader)\n",
        "testdata = [[sample[0].numpy(), sample[1].numpy()] for sample in testdata]\n",
        "test_X = np.vstack([sample[0] for sample in testdata])\n",
        "test_y = np.hstack([sample[1] for sample in testdata])"
      ],
      "execution_count": 6,
      "outputs": []
    },
    {
      "cell_type": "markdown",
      "metadata": {
        "id": "ugFXXKS40L21"
      },
      "source": [
        "# Model Definitions"
      ]
    },
    {
      "cell_type": "markdown",
      "metadata": {
        "id": "tMvoDB4Pz-fN"
      },
      "source": [
        "## CNN"
      ]
    },
    {
      "cell_type": "code",
      "metadata": {
        "id": "dRYFORJP2Pj8"
      },
      "source": [
        ""
      ],
      "execution_count": 6,
      "outputs": []
    },
    {
      "cell_type": "code",
      "metadata": {
        "id": "Zw9LQeR8z__y",
        "colab": {
          "base_uri": "https://localhost:8080/",
          "height": 1000
        },
        "outputId": "5ed602ed-654c-4ac5-c642-aa3c39402133"
      },
      "source": [
        "n_epochs = 4\n",
        "batch_size_train = 64\n",
        "batch_size_test = 1000\n",
        "learning_rate = 0.01\n",
        "momentum = 0.5\n",
        "log_interval = 10\n",
        "\n",
        "train_loader = load_mnist(train = True, batch_size = batch_size_train)\n",
        "test_loader = load_mnist(train = False, batch_size = batch_size_test)\n",
        "\n",
        "\"\"\" https://nextjournal.com/gkoehler/pytorch-mnist \"\"\"\n",
        "class ConvolutionalNeuralNetwork(nn.Module):\n",
        "    def __init__(self):\n",
        "        super(ConvolutionalNeuralNetwork, self).__init__()\n",
        "        self.conv1 = nn.Conv2d(1, 10, kernel_size=5)\n",
        "        self.conv2 = nn.Conv2d(10, 20, kernel_size=5)\n",
        "        self.conv2_drop = nn.Dropout2d()\n",
        "        self.fc1 = nn.Linear(320, 50)\n",
        "        self.fc2 = nn.Linear(50, 10)\n",
        "\n",
        "    def forward(self, x):\n",
        "        x = F.relu(F.max_pool2d(self.conv1(x), 2))\n",
        "        x = F.relu(F.max_pool2d(self.conv2_drop(self.conv2(x)), 2))\n",
        "        x = x.view(-1, 320)\n",
        "        x = F.relu(self.fc1(x))\n",
        "        x = F.dropout(x, training=self.training)\n",
        "        x = self.fc2(x)\n",
        "        return F.log_softmax(x)\n",
        "\n",
        "network = ConvolutionalNeuralNetwork()\n",
        "network.to(device)\n",
        "optimizer = torch.optim.SGD(\n",
        "    network.parameters(), lr=learning_rate, momentum=momentum,\n",
        ")\n",
        "\n",
        "train_losses = []\n",
        "train_counter = []\n",
        "test_losses = []\n",
        "test_counter = [i*len(train_loader.dataset) for i in range(n_epochs + 1)]\n",
        "\n",
        "def train(epoch):\n",
        "    network.train()\n",
        "\n",
        "    for batch_idx, data in enumerate(train_loader):\n",
        "        images, labels = data[0].to(device), data[1].to(device)\n",
        "        \n",
        "        optimizer.zero_grad()\n",
        "        output = network(images)\n",
        "        loss = F.nll_loss(output, labels)\n",
        "        loss.backward()\n",
        "        optimizer.step()\n",
        "\n",
        "        if batch_idx % log_interval == 0:\n",
        "            print(\n",
        "                'Train Epoch: {} [{}/{} ({:.0f}%)]\\tLoss: {:.6f}'.format(\n",
        "                    epoch,\n",
        "                    batch_idx * len(data), len(train_loader.dataset),\n",
        "                    100. * batch_idx / len(train_loader), loss.item()\n",
        "                )\n",
        "            )\n",
        "            train_losses.append(loss.item())\n",
        "            train_counter.append(\n",
        "                (batch_idx*64) + ((epoch-1)*len(train_loader.dataset))\n",
        "            )\n",
        "\n",
        "def test():\n",
        "    network.eval()\n",
        "\n",
        "    test_loss = 0\n",
        "    correct = 0\n",
        "    \n",
        "    with torch.no_grad():\n",
        "        for data in test_loader:\n",
        "            images, labels = data[0].to(device), data[1].to(device)\n",
        "            \n",
        "            output = network(images)\n",
        "            test_loss += F.nll_loss(output, labels, size_average=False).item()\n",
        "            pred = output.data.max(1, keepdim=True)[1]\n",
        "            correct += pred.eq(labels.data.view_as(pred)).sum()\n",
        "    test_loss /= len(test_loader.dataset)\n",
        "    test_losses.append(test_loss)\n",
        "    print(\n",
        "        'Test set: Avg. loss: {:.4f}, Accuracy: {}/{} ({:.0f}%)\\n'.format(\n",
        "            test_loss,\n",
        "            correct,\n",
        "            len(test_loader.dataset),\n",
        "            100. * correct / len(test_loader.dataset),\n",
        "        )\n",
        "    )\n",
        "\n",
        "test()\n",
        "for epoch in range(1, n_epochs + 1):\n",
        "    train(epoch)\n",
        "    test()\n",
        "    \n",
        "fig = plt.figure()\n",
        "plt.plot(train_counter, train_losses, color='blue')\n",
        "plt.scatter(test_counter, test_losses, color='red')\n",
        "plt.legend(['Train Loss', 'Test Loss'], loc='upper right')\n",
        "plt.xlabel('number of training examples seen')\n",
        "plt.ylabel('negative log likelihood loss')"
      ],
      "execution_count": 9,
      "outputs": [
        {
          "output_type": "stream",
          "text": [
            "/usr/local/lib/python3.6/dist-packages/ipykernel_launcher.py:28: UserWarning: Implicit dimension choice for log_softmax has been deprecated. Change the call to include dim=X as an argument.\n",
            "/usr/local/lib/python3.6/dist-packages/torch/nn/_reduction.py:44: UserWarning: size_average and reduce args will be deprecated, please use reduction='sum' instead.\n",
            "  warnings.warn(warning.format(ret))\n"
          ],
          "name": "stderr"
        },
        {
          "output_type": "stream",
          "text": [
            "Test set: Avg. loss: 2.3059, Accuracy: 919/10000 (9%)\n",
            "\n",
            "Train Epoch: 1 [0/60000 (0%)]\tLoss: 2.307193\n",
            "Train Epoch: 1 [20/60000 (1%)]\tLoss: 2.308605\n",
            "Train Epoch: 1 [40/60000 (2%)]\tLoss: 2.312051\n",
            "Train Epoch: 1 [60/60000 (3%)]\tLoss: 2.310634\n",
            "Train Epoch: 1 [80/60000 (4%)]\tLoss: 2.295928\n",
            "Train Epoch: 1 [100/60000 (5%)]\tLoss: 2.291842\n",
            "Train Epoch: 1 [120/60000 (6%)]\tLoss: 2.290722\n",
            "Train Epoch: 1 [140/60000 (7%)]\tLoss: 2.294345\n",
            "Train Epoch: 1 [160/60000 (9%)]\tLoss: 2.303573\n",
            "Train Epoch: 1 [180/60000 (10%)]\tLoss: 2.272862\n",
            "Train Epoch: 1 [200/60000 (11%)]\tLoss: 2.304301\n",
            "Train Epoch: 1 [220/60000 (12%)]\tLoss: 2.294102\n",
            "Train Epoch: 1 [240/60000 (13%)]\tLoss: 2.299315\n",
            "Train Epoch: 1 [260/60000 (14%)]\tLoss: 2.286875\n",
            "Train Epoch: 1 [280/60000 (15%)]\tLoss: 2.276724\n",
            "Train Epoch: 1 [300/60000 (16%)]\tLoss: 2.280898\n",
            "Train Epoch: 1 [320/60000 (17%)]\tLoss: 2.272319\n",
            "Train Epoch: 1 [340/60000 (18%)]\tLoss: 2.245273\n",
            "Train Epoch: 1 [360/60000 (19%)]\tLoss: 2.272908\n",
            "Train Epoch: 1 [380/60000 (20%)]\tLoss: 2.258169\n",
            "Train Epoch: 1 [400/60000 (21%)]\tLoss: 2.251577\n",
            "Train Epoch: 1 [420/60000 (22%)]\tLoss: 2.240290\n",
            "Train Epoch: 1 [440/60000 (23%)]\tLoss: 2.214712\n",
            "Train Epoch: 1 [460/60000 (25%)]\tLoss: 2.216819\n",
            "Train Epoch: 1 [480/60000 (26%)]\tLoss: 2.203913\n",
            "Train Epoch: 1 [500/60000 (27%)]\tLoss: 2.190019\n",
            "Train Epoch: 1 [520/60000 (28%)]\tLoss: 2.163740\n",
            "Train Epoch: 1 [540/60000 (29%)]\tLoss: 2.167508\n",
            "Train Epoch: 1 [560/60000 (30%)]\tLoss: 2.183629\n",
            "Train Epoch: 1 [580/60000 (31%)]\tLoss: 2.185964\n",
            "Train Epoch: 1 [600/60000 (32%)]\tLoss: 2.056925\n",
            "Train Epoch: 1 [620/60000 (33%)]\tLoss: 2.120886\n",
            "Train Epoch: 1 [640/60000 (34%)]\tLoss: 1.988471\n",
            "Train Epoch: 1 [660/60000 (35%)]\tLoss: 1.968858\n",
            "Train Epoch: 1 [680/60000 (36%)]\tLoss: 1.948988\n",
            "Train Epoch: 1 [700/60000 (37%)]\tLoss: 1.748325\n",
            "Train Epoch: 1 [720/60000 (38%)]\tLoss: 1.799948\n",
            "Train Epoch: 1 [740/60000 (39%)]\tLoss: 1.723928\n",
            "Train Epoch: 1 [760/60000 (41%)]\tLoss: 1.693184\n",
            "Train Epoch: 1 [780/60000 (42%)]\tLoss: 1.566587\n",
            "Train Epoch: 1 [800/60000 (43%)]\tLoss: 1.390103\n",
            "Train Epoch: 1 [820/60000 (44%)]\tLoss: 1.629415\n",
            "Train Epoch: 1 [840/60000 (45%)]\tLoss: 1.561765\n",
            "Train Epoch: 1 [860/60000 (46%)]\tLoss: 1.400092\n",
            "Train Epoch: 1 [880/60000 (47%)]\tLoss: 1.492660\n",
            "Train Epoch: 1 [900/60000 (48%)]\tLoss: 1.380643\n",
            "Train Epoch: 1 [920/60000 (49%)]\tLoss: 1.098370\n",
            "Train Epoch: 1 [940/60000 (50%)]\tLoss: 1.102727\n",
            "Train Epoch: 1 [960/60000 (51%)]\tLoss: 1.543299\n",
            "Train Epoch: 1 [980/60000 (52%)]\tLoss: 1.024888\n",
            "Train Epoch: 1 [1000/60000 (53%)]\tLoss: 1.232656\n",
            "Train Epoch: 1 [1020/60000 (54%)]\tLoss: 1.358927\n",
            "Train Epoch: 1 [1040/60000 (55%)]\tLoss: 1.045523\n",
            "Train Epoch: 1 [1060/60000 (57%)]\tLoss: 1.045518\n",
            "Train Epoch: 1 [1080/60000 (58%)]\tLoss: 1.049068\n",
            "Train Epoch: 1 [1100/60000 (59%)]\tLoss: 0.933266\n",
            "Train Epoch: 1 [1120/60000 (60%)]\tLoss: 1.154783\n",
            "Train Epoch: 1 [1140/60000 (61%)]\tLoss: 1.282766\n",
            "Train Epoch: 1 [1160/60000 (62%)]\tLoss: 0.897140\n",
            "Train Epoch: 1 [1180/60000 (63%)]\tLoss: 0.949701\n",
            "Train Epoch: 1 [1200/60000 (64%)]\tLoss: 0.896727\n",
            "Train Epoch: 1 [1220/60000 (65%)]\tLoss: 1.027178\n",
            "Train Epoch: 1 [1240/60000 (66%)]\tLoss: 0.984992\n",
            "Train Epoch: 1 [1260/60000 (67%)]\tLoss: 0.865989\n",
            "Train Epoch: 1 [1280/60000 (68%)]\tLoss: 0.896152\n",
            "Train Epoch: 1 [1300/60000 (69%)]\tLoss: 1.088745\n",
            "Train Epoch: 1 [1320/60000 (70%)]\tLoss: 0.933446\n",
            "Train Epoch: 1 [1340/60000 (71%)]\tLoss: 1.032718\n",
            "Train Epoch: 1 [1360/60000 (72%)]\tLoss: 0.845940\n",
            "Train Epoch: 1 [1380/60000 (74%)]\tLoss: 0.895853\n",
            "Train Epoch: 1 [1400/60000 (75%)]\tLoss: 1.146021\n",
            "Train Epoch: 1 [1420/60000 (76%)]\tLoss: 0.957692\n",
            "Train Epoch: 1 [1440/60000 (77%)]\tLoss: 1.127208\n",
            "Train Epoch: 1 [1460/60000 (78%)]\tLoss: 0.909741\n",
            "Train Epoch: 1 [1480/60000 (79%)]\tLoss: 0.960949\n",
            "Train Epoch: 1 [1500/60000 (80%)]\tLoss: 0.911198\n",
            "Train Epoch: 1 [1520/60000 (81%)]\tLoss: 0.922257\n",
            "Train Epoch: 1 [1540/60000 (82%)]\tLoss: 1.058003\n",
            "Train Epoch: 1 [1560/60000 (83%)]\tLoss: 0.746128\n",
            "Train Epoch: 1 [1580/60000 (84%)]\tLoss: 0.919308\n",
            "Train Epoch: 1 [1600/60000 (85%)]\tLoss: 0.870890\n",
            "Train Epoch: 1 [1620/60000 (86%)]\tLoss: 0.622453\n",
            "Train Epoch: 1 [1640/60000 (87%)]\tLoss: 0.941354\n",
            "Train Epoch: 1 [1660/60000 (88%)]\tLoss: 0.762695\n",
            "Train Epoch: 1 [1680/60000 (90%)]\tLoss: 0.809859\n",
            "Train Epoch: 1 [1700/60000 (91%)]\tLoss: 0.968021\n",
            "Train Epoch: 1 [1720/60000 (92%)]\tLoss: 0.448570\n",
            "Train Epoch: 1 [1740/60000 (93%)]\tLoss: 0.745709\n",
            "Train Epoch: 1 [1760/60000 (94%)]\tLoss: 0.763231\n",
            "Train Epoch: 1 [1780/60000 (95%)]\tLoss: 0.807206\n",
            "Train Epoch: 1 [1800/60000 (96%)]\tLoss: 0.809698\n",
            "Train Epoch: 1 [1820/60000 (97%)]\tLoss: 0.571312\n",
            "Train Epoch: 1 [1840/60000 (98%)]\tLoss: 0.878047\n",
            "Train Epoch: 1 [1860/60000 (99%)]\tLoss: 0.703124\n",
            "Test set: Avg. loss: 0.4079, Accuracy: 8814/10000 (88%)\n",
            "\n",
            "Train Epoch: 2 [0/60000 (0%)]\tLoss: 0.612060\n",
            "Train Epoch: 2 [20/60000 (1%)]\tLoss: 0.713460\n",
            "Train Epoch: 2 [40/60000 (2%)]\tLoss: 0.866292\n",
            "Train Epoch: 2 [60/60000 (3%)]\tLoss: 0.538177\n",
            "Train Epoch: 2 [80/60000 (4%)]\tLoss: 0.512808\n",
            "Train Epoch: 2 [100/60000 (5%)]\tLoss: 0.605740\n",
            "Train Epoch: 2 [120/60000 (6%)]\tLoss: 0.671154\n",
            "Train Epoch: 2 [140/60000 (7%)]\tLoss: 0.734741\n",
            "Train Epoch: 2 [160/60000 (9%)]\tLoss: 0.678318\n",
            "Train Epoch: 2 [180/60000 (10%)]\tLoss: 0.551367\n",
            "Train Epoch: 2 [200/60000 (11%)]\tLoss: 0.621339\n",
            "Train Epoch: 2 [220/60000 (12%)]\tLoss: 0.649816\n",
            "Train Epoch: 2 [240/60000 (13%)]\tLoss: 0.633913\n",
            "Train Epoch: 2 [260/60000 (14%)]\tLoss: 0.945477\n",
            "Train Epoch: 2 [280/60000 (15%)]\tLoss: 0.685678\n",
            "Train Epoch: 2 [300/60000 (16%)]\tLoss: 0.516727\n",
            "Train Epoch: 2 [320/60000 (17%)]\tLoss: 0.705786\n",
            "Train Epoch: 2 [340/60000 (18%)]\tLoss: 0.814899\n",
            "Train Epoch: 2 [360/60000 (19%)]\tLoss: 0.707062\n",
            "Train Epoch: 2 [380/60000 (20%)]\tLoss: 0.591462\n",
            "Train Epoch: 2 [400/60000 (21%)]\tLoss: 0.446703\n",
            "Train Epoch: 2 [420/60000 (22%)]\tLoss: 0.760438\n",
            "Train Epoch: 2 [440/60000 (23%)]\tLoss: 0.611505\n",
            "Train Epoch: 2 [460/60000 (25%)]\tLoss: 0.745182\n",
            "Train Epoch: 2 [480/60000 (26%)]\tLoss: 0.863375\n",
            "Train Epoch: 2 [500/60000 (27%)]\tLoss: 0.470286\n",
            "Train Epoch: 2 [520/60000 (28%)]\tLoss: 0.666722\n",
            "Train Epoch: 2 [540/60000 (29%)]\tLoss: 0.617443\n",
            "Train Epoch: 2 [560/60000 (30%)]\tLoss: 0.524858\n",
            "Train Epoch: 2 [580/60000 (31%)]\tLoss: 0.874036\n",
            "Train Epoch: 2 [600/60000 (32%)]\tLoss: 0.424954\n",
            "Train Epoch: 2 [620/60000 (33%)]\tLoss: 0.874413\n",
            "Train Epoch: 2 [640/60000 (34%)]\tLoss: 0.620143\n",
            "Train Epoch: 2 [660/60000 (35%)]\tLoss: 0.742588\n",
            "Train Epoch: 2 [680/60000 (36%)]\tLoss: 1.136287\n",
            "Train Epoch: 2 [700/60000 (37%)]\tLoss: 0.657222\n",
            "Train Epoch: 2 [720/60000 (38%)]\tLoss: 0.495985\n",
            "Train Epoch: 2 [740/60000 (39%)]\tLoss: 0.609399\n",
            "Train Epoch: 2 [760/60000 (41%)]\tLoss: 0.886860\n",
            "Train Epoch: 2 [780/60000 (42%)]\tLoss: 0.460114\n",
            "Train Epoch: 2 [800/60000 (43%)]\tLoss: 0.584283\n",
            "Train Epoch: 2 [820/60000 (44%)]\tLoss: 0.833831\n",
            "Train Epoch: 2 [840/60000 (45%)]\tLoss: 0.592713\n",
            "Train Epoch: 2 [860/60000 (46%)]\tLoss: 0.537758\n",
            "Train Epoch: 2 [880/60000 (47%)]\tLoss: 0.451763\n",
            "Train Epoch: 2 [900/60000 (48%)]\tLoss: 0.463421\n",
            "Train Epoch: 2 [920/60000 (49%)]\tLoss: 0.405335\n",
            "Train Epoch: 2 [940/60000 (50%)]\tLoss: 0.592070\n",
            "Train Epoch: 2 [960/60000 (51%)]\tLoss: 0.741915\n",
            "Train Epoch: 2 [980/60000 (52%)]\tLoss: 0.641199\n",
            "Train Epoch: 2 [1000/60000 (53%)]\tLoss: 0.435440\n",
            "Train Epoch: 2 [1020/60000 (54%)]\tLoss: 0.685127\n",
            "Train Epoch: 2 [1040/60000 (55%)]\tLoss: 0.558981\n",
            "Train Epoch: 2 [1060/60000 (57%)]\tLoss: 0.610941\n",
            "Train Epoch: 2 [1080/60000 (58%)]\tLoss: 0.384578\n",
            "Train Epoch: 2 [1100/60000 (59%)]\tLoss: 0.749820\n",
            "Train Epoch: 2 [1120/60000 (60%)]\tLoss: 0.778205\n",
            "Train Epoch: 2 [1140/60000 (61%)]\tLoss: 0.414644\n",
            "Train Epoch: 2 [1160/60000 (62%)]\tLoss: 0.592864\n",
            "Train Epoch: 2 [1180/60000 (63%)]\tLoss: 0.738202\n",
            "Train Epoch: 2 [1200/60000 (64%)]\tLoss: 0.735793\n",
            "Train Epoch: 2 [1220/60000 (65%)]\tLoss: 0.513422\n",
            "Train Epoch: 2 [1240/60000 (66%)]\tLoss: 0.593647\n",
            "Train Epoch: 2 [1260/60000 (67%)]\tLoss: 0.407915\n",
            "Train Epoch: 2 [1280/60000 (68%)]\tLoss: 0.394748\n",
            "Train Epoch: 2 [1300/60000 (69%)]\tLoss: 0.455163\n",
            "Train Epoch: 2 [1320/60000 (70%)]\tLoss: 0.438092\n",
            "Train Epoch: 2 [1340/60000 (71%)]\tLoss: 0.643077\n",
            "Train Epoch: 2 [1360/60000 (72%)]\tLoss: 0.478854\n",
            "Train Epoch: 2 [1380/60000 (74%)]\tLoss: 0.553491\n",
            "Train Epoch: 2 [1400/60000 (75%)]\tLoss: 0.573317\n",
            "Train Epoch: 2 [1420/60000 (76%)]\tLoss: 0.423153\n",
            "Train Epoch: 2 [1440/60000 (77%)]\tLoss: 0.383156\n",
            "Train Epoch: 2 [1460/60000 (78%)]\tLoss: 0.559475\n",
            "Train Epoch: 2 [1480/60000 (79%)]\tLoss: 0.420524\n",
            "Train Epoch: 2 [1500/60000 (80%)]\tLoss: 0.456581\n",
            "Train Epoch: 2 [1520/60000 (81%)]\tLoss: 0.617601\n",
            "Train Epoch: 2 [1540/60000 (82%)]\tLoss: 0.617638\n",
            "Train Epoch: 2 [1560/60000 (83%)]\tLoss: 0.451481\n",
            "Train Epoch: 2 [1580/60000 (84%)]\tLoss: 0.657533\n",
            "Train Epoch: 2 [1600/60000 (85%)]\tLoss: 0.459242\n",
            "Train Epoch: 2 [1620/60000 (86%)]\tLoss: 0.283671\n",
            "Train Epoch: 2 [1640/60000 (87%)]\tLoss: 0.757253\n",
            "Train Epoch: 2 [1660/60000 (88%)]\tLoss: 0.632324\n",
            "Train Epoch: 2 [1680/60000 (90%)]\tLoss: 0.606952\n",
            "Train Epoch: 2 [1700/60000 (91%)]\tLoss: 0.350249\n",
            "Train Epoch: 2 [1720/60000 (92%)]\tLoss: 0.419707\n",
            "Train Epoch: 2 [1740/60000 (93%)]\tLoss: 0.252844\n",
            "Train Epoch: 2 [1760/60000 (94%)]\tLoss: 0.554263\n",
            "Train Epoch: 2 [1780/60000 (95%)]\tLoss: 1.000779\n",
            "Train Epoch: 2 [1800/60000 (96%)]\tLoss: 0.440004\n",
            "Train Epoch: 2 [1820/60000 (97%)]\tLoss: 0.608440\n",
            "Train Epoch: 2 [1840/60000 (98%)]\tLoss: 0.392844\n",
            "Train Epoch: 2 [1860/60000 (99%)]\tLoss: 0.448570\n",
            "Test set: Avg. loss: 0.2209, Accuracy: 9332/10000 (93%)\n",
            "\n",
            "Train Epoch: 3 [0/60000 (0%)]\tLoss: 0.421365\n",
            "Train Epoch: 3 [20/60000 (1%)]\tLoss: 0.369964\n",
            "Train Epoch: 3 [40/60000 (2%)]\tLoss: 0.651411\n",
            "Train Epoch: 3 [60/60000 (3%)]\tLoss: 0.403743\n",
            "Train Epoch: 3 [80/60000 (4%)]\tLoss: 0.508124\n",
            "Train Epoch: 3 [100/60000 (5%)]\tLoss: 0.759806\n",
            "Train Epoch: 3 [120/60000 (6%)]\tLoss: 0.520652\n",
            "Train Epoch: 3 [140/60000 (7%)]\tLoss: 0.405269\n",
            "Train Epoch: 3 [160/60000 (9%)]\tLoss: 0.452510\n",
            "Train Epoch: 3 [180/60000 (10%)]\tLoss: 0.461608\n",
            "Train Epoch: 3 [200/60000 (11%)]\tLoss: 0.239089\n",
            "Train Epoch: 3 [220/60000 (12%)]\tLoss: 0.608080\n",
            "Train Epoch: 3 [240/60000 (13%)]\tLoss: 0.494089\n",
            "Train Epoch: 3 [260/60000 (14%)]\tLoss: 0.470111\n",
            "Train Epoch: 3 [280/60000 (15%)]\tLoss: 0.785887\n",
            "Train Epoch: 3 [300/60000 (16%)]\tLoss: 0.256947\n",
            "Train Epoch: 3 [320/60000 (17%)]\tLoss: 0.610199\n",
            "Train Epoch: 3 [340/60000 (18%)]\tLoss: 0.364256\n",
            "Train Epoch: 3 [360/60000 (19%)]\tLoss: 0.633910\n",
            "Train Epoch: 3 [380/60000 (20%)]\tLoss: 0.513696\n",
            "Train Epoch: 3 [400/60000 (21%)]\tLoss: 0.697410\n",
            "Train Epoch: 3 [420/60000 (22%)]\tLoss: 0.494180\n",
            "Train Epoch: 3 [440/60000 (23%)]\tLoss: 0.431975\n",
            "Train Epoch: 3 [460/60000 (25%)]\tLoss: 0.411572\n",
            "Train Epoch: 3 [480/60000 (26%)]\tLoss: 0.398767\n",
            "Train Epoch: 3 [500/60000 (27%)]\tLoss: 0.486113\n",
            "Train Epoch: 3 [520/60000 (28%)]\tLoss: 0.301003\n",
            "Train Epoch: 3 [540/60000 (29%)]\tLoss: 0.477120\n",
            "Train Epoch: 3 [560/60000 (30%)]\tLoss: 0.301974\n",
            "Train Epoch: 3 [580/60000 (31%)]\tLoss: 0.491817\n",
            "Train Epoch: 3 [600/60000 (32%)]\tLoss: 0.345779\n",
            "Train Epoch: 3 [620/60000 (33%)]\tLoss: 0.334385\n",
            "Train Epoch: 3 [640/60000 (34%)]\tLoss: 0.385804\n",
            "Train Epoch: 3 [660/60000 (35%)]\tLoss: 0.253095\n",
            "Train Epoch: 3 [680/60000 (36%)]\tLoss: 0.369345\n",
            "Train Epoch: 3 [700/60000 (37%)]\tLoss: 0.457343\n",
            "Train Epoch: 3 [720/60000 (38%)]\tLoss: 0.286565\n",
            "Train Epoch: 3 [740/60000 (39%)]\tLoss: 0.262997\n",
            "Train Epoch: 3 [760/60000 (41%)]\tLoss: 0.486053\n",
            "Train Epoch: 3 [780/60000 (42%)]\tLoss: 0.315000\n",
            "Train Epoch: 3 [800/60000 (43%)]\tLoss: 0.368899\n",
            "Train Epoch: 3 [820/60000 (44%)]\tLoss: 0.470754\n",
            "Train Epoch: 3 [840/60000 (45%)]\tLoss: 0.388591\n",
            "Train Epoch: 3 [860/60000 (46%)]\tLoss: 0.628350\n",
            "Train Epoch: 3 [880/60000 (47%)]\tLoss: 0.559628\n",
            "Train Epoch: 3 [900/60000 (48%)]\tLoss: 0.660065\n",
            "Train Epoch: 3 [920/60000 (49%)]\tLoss: 0.358526\n",
            "Train Epoch: 3 [940/60000 (50%)]\tLoss: 0.457629\n",
            "Train Epoch: 3 [960/60000 (51%)]\tLoss: 0.281447\n",
            "Train Epoch: 3 [980/60000 (52%)]\tLoss: 0.307562\n",
            "Train Epoch: 3 [1000/60000 (53%)]\tLoss: 0.370517\n",
            "Train Epoch: 3 [1020/60000 (54%)]\tLoss: 0.557527\n",
            "Train Epoch: 3 [1040/60000 (55%)]\tLoss: 0.477706\n",
            "Train Epoch: 3 [1060/60000 (57%)]\tLoss: 0.350551\n",
            "Train Epoch: 3 [1080/60000 (58%)]\tLoss: 0.437937\n",
            "Train Epoch: 3 [1100/60000 (59%)]\tLoss: 0.273081\n",
            "Train Epoch: 3 [1120/60000 (60%)]\tLoss: 0.384055\n",
            "Train Epoch: 3 [1140/60000 (61%)]\tLoss: 0.224840\n",
            "Train Epoch: 3 [1160/60000 (62%)]\tLoss: 0.464608\n",
            "Train Epoch: 3 [1180/60000 (63%)]\tLoss: 0.278878\n",
            "Train Epoch: 3 [1200/60000 (64%)]\tLoss: 0.340172\n",
            "Train Epoch: 3 [1220/60000 (65%)]\tLoss: 0.432526\n",
            "Train Epoch: 3 [1240/60000 (66%)]\tLoss: 0.521795\n",
            "Train Epoch: 3 [1260/60000 (67%)]\tLoss: 0.456594\n",
            "Train Epoch: 3 [1280/60000 (68%)]\tLoss: 0.368598\n",
            "Train Epoch: 3 [1300/60000 (69%)]\tLoss: 0.186120\n",
            "Train Epoch: 3 [1320/60000 (70%)]\tLoss: 0.317479\n",
            "Train Epoch: 3 [1340/60000 (71%)]\tLoss: 0.517228\n",
            "Train Epoch: 3 [1360/60000 (72%)]\tLoss: 0.260717\n",
            "Train Epoch: 3 [1380/60000 (74%)]\tLoss: 0.333059\n",
            "Train Epoch: 3 [1400/60000 (75%)]\tLoss: 0.249349\n",
            "Train Epoch: 3 [1420/60000 (76%)]\tLoss: 0.313755\n",
            "Train Epoch: 3 [1440/60000 (77%)]\tLoss: 0.400085\n",
            "Train Epoch: 3 [1460/60000 (78%)]\tLoss: 0.474731\n",
            "Train Epoch: 3 [1480/60000 (79%)]\tLoss: 0.484102\n",
            "Train Epoch: 3 [1500/60000 (80%)]\tLoss: 0.213347\n",
            "Train Epoch: 3 [1520/60000 (81%)]\tLoss: 0.375965\n",
            "Train Epoch: 3 [1540/60000 (82%)]\tLoss: 0.214249\n",
            "Train Epoch: 3 [1560/60000 (83%)]\tLoss: 0.261972\n",
            "Train Epoch: 3 [1580/60000 (84%)]\tLoss: 0.673336\n",
            "Train Epoch: 3 [1600/60000 (85%)]\tLoss: 0.547964\n",
            "Train Epoch: 3 [1620/60000 (86%)]\tLoss: 0.414917\n",
            "Train Epoch: 3 [1640/60000 (87%)]\tLoss: 0.300319\n",
            "Train Epoch: 3 [1660/60000 (88%)]\tLoss: 0.331174\n",
            "Train Epoch: 3 [1680/60000 (90%)]\tLoss: 0.586516\n",
            "Train Epoch: 3 [1700/60000 (91%)]\tLoss: 0.454633\n",
            "Train Epoch: 3 [1720/60000 (92%)]\tLoss: 0.387982\n",
            "Train Epoch: 3 [1740/60000 (93%)]\tLoss: 0.365820\n",
            "Train Epoch: 3 [1760/60000 (94%)]\tLoss: 0.339637\n",
            "Train Epoch: 3 [1780/60000 (95%)]\tLoss: 0.297356\n",
            "Train Epoch: 3 [1800/60000 (96%)]\tLoss: 0.383890\n",
            "Train Epoch: 3 [1820/60000 (97%)]\tLoss: 0.404706\n",
            "Train Epoch: 3 [1840/60000 (98%)]\tLoss: 0.546207\n",
            "Train Epoch: 3 [1860/60000 (99%)]\tLoss: 0.384349\n",
            "Test set: Avg. loss: 0.1591, Accuracy: 9532/10000 (95%)\n",
            "\n",
            "Train Epoch: 4 [0/60000 (0%)]\tLoss: 0.348688\n",
            "Train Epoch: 4 [20/60000 (1%)]\tLoss: 0.413759\n",
            "Train Epoch: 4 [40/60000 (2%)]\tLoss: 0.307552\n",
            "Train Epoch: 4 [60/60000 (3%)]\tLoss: 0.481816\n",
            "Train Epoch: 4 [80/60000 (4%)]\tLoss: 0.374064\n",
            "Train Epoch: 4 [100/60000 (5%)]\tLoss: 0.476326\n",
            "Train Epoch: 4 [120/60000 (6%)]\tLoss: 0.462838\n",
            "Train Epoch: 4 [140/60000 (7%)]\tLoss: 0.428246\n",
            "Train Epoch: 4 [160/60000 (9%)]\tLoss: 0.275581\n",
            "Train Epoch: 4 [180/60000 (10%)]\tLoss: 0.253070\n",
            "Train Epoch: 4 [200/60000 (11%)]\tLoss: 0.347320\n",
            "Train Epoch: 4 [220/60000 (12%)]\tLoss: 0.295887\n",
            "Train Epoch: 4 [240/60000 (13%)]\tLoss: 0.330306\n",
            "Train Epoch: 4 [260/60000 (14%)]\tLoss: 0.414198\n",
            "Train Epoch: 4 [280/60000 (15%)]\tLoss: 0.256842\n",
            "Train Epoch: 4 [300/60000 (16%)]\tLoss: 0.364792\n",
            "Train Epoch: 4 [320/60000 (17%)]\tLoss: 0.442475\n",
            "Train Epoch: 4 [340/60000 (18%)]\tLoss: 0.333943\n",
            "Train Epoch: 4 [360/60000 (19%)]\tLoss: 0.265166\n",
            "Train Epoch: 4 [380/60000 (20%)]\tLoss: 0.218007\n",
            "Train Epoch: 4 [400/60000 (21%)]\tLoss: 0.275148\n",
            "Train Epoch: 4 [420/60000 (22%)]\tLoss: 0.278890\n",
            "Train Epoch: 4 [440/60000 (23%)]\tLoss: 0.264238\n",
            "Train Epoch: 4 [460/60000 (25%)]\tLoss: 0.487869\n",
            "Train Epoch: 4 [480/60000 (26%)]\tLoss: 0.327369\n",
            "Train Epoch: 4 [500/60000 (27%)]\tLoss: 0.281300\n",
            "Train Epoch: 4 [520/60000 (28%)]\tLoss: 0.318889\n",
            "Train Epoch: 4 [540/60000 (29%)]\tLoss: 0.441371\n",
            "Train Epoch: 4 [560/60000 (30%)]\tLoss: 0.271987\n",
            "Train Epoch: 4 [580/60000 (31%)]\tLoss: 0.228873\n",
            "Train Epoch: 4 [600/60000 (32%)]\tLoss: 0.406096\n",
            "Train Epoch: 4 [620/60000 (33%)]\tLoss: 0.453162\n",
            "Train Epoch: 4 [640/60000 (34%)]\tLoss: 0.312481\n",
            "Train Epoch: 4 [660/60000 (35%)]\tLoss: 0.341753\n",
            "Train Epoch: 4 [680/60000 (36%)]\tLoss: 0.475952\n",
            "Train Epoch: 4 [700/60000 (37%)]\tLoss: 0.405379\n",
            "Train Epoch: 4 [720/60000 (38%)]\tLoss: 0.283561\n",
            "Train Epoch: 4 [740/60000 (39%)]\tLoss: 0.285835\n",
            "Train Epoch: 4 [760/60000 (41%)]\tLoss: 0.307127\n",
            "Train Epoch: 4 [780/60000 (42%)]\tLoss: 0.369653\n",
            "Train Epoch: 4 [800/60000 (43%)]\tLoss: 0.393643\n",
            "Train Epoch: 4 [820/60000 (44%)]\tLoss: 0.374707\n",
            "Train Epoch: 4 [840/60000 (45%)]\tLoss: 0.286713\n",
            "Train Epoch: 4 [860/60000 (46%)]\tLoss: 0.292130\n",
            "Train Epoch: 4 [880/60000 (47%)]\tLoss: 0.249019\n",
            "Train Epoch: 4 [900/60000 (48%)]\tLoss: 0.334119\n",
            "Train Epoch: 4 [920/60000 (49%)]\tLoss: 0.358578\n",
            "Train Epoch: 4 [940/60000 (50%)]\tLoss: 0.375338\n",
            "Train Epoch: 4 [960/60000 (51%)]\tLoss: 0.185367\n",
            "Train Epoch: 4 [980/60000 (52%)]\tLoss: 0.587732\n",
            "Train Epoch: 4 [1000/60000 (53%)]\tLoss: 0.295859\n",
            "Train Epoch: 4 [1020/60000 (54%)]\tLoss: 0.774063\n",
            "Train Epoch: 4 [1040/60000 (55%)]\tLoss: 0.186168\n",
            "Train Epoch: 4 [1060/60000 (57%)]\tLoss: 0.197223\n",
            "Train Epoch: 4 [1080/60000 (58%)]\tLoss: 0.439327\n",
            "Train Epoch: 4 [1100/60000 (59%)]\tLoss: 0.342910\n",
            "Train Epoch: 4 [1120/60000 (60%)]\tLoss: 0.381864\n",
            "Train Epoch: 4 [1140/60000 (61%)]\tLoss: 0.312623\n",
            "Train Epoch: 4 [1160/60000 (62%)]\tLoss: 0.195031\n",
            "Train Epoch: 4 [1180/60000 (63%)]\tLoss: 0.405384\n",
            "Train Epoch: 4 [1200/60000 (64%)]\tLoss: 0.287568\n",
            "Train Epoch: 4 [1220/60000 (65%)]\tLoss: 0.485098\n",
            "Train Epoch: 4 [1240/60000 (66%)]\tLoss: 0.174201\n",
            "Train Epoch: 4 [1260/60000 (67%)]\tLoss: 0.431039\n",
            "Train Epoch: 4 [1280/60000 (68%)]\tLoss: 0.396474\n",
            "Train Epoch: 4 [1300/60000 (69%)]\tLoss: 0.229824\n",
            "Train Epoch: 4 [1320/60000 (70%)]\tLoss: 0.273918\n",
            "Train Epoch: 4 [1340/60000 (71%)]\tLoss: 0.403156\n",
            "Train Epoch: 4 [1360/60000 (72%)]\tLoss: 0.329085\n",
            "Train Epoch: 4 [1380/60000 (74%)]\tLoss: 0.306848\n",
            "Train Epoch: 4 [1400/60000 (75%)]\tLoss: 0.358204\n",
            "Train Epoch: 4 [1420/60000 (76%)]\tLoss: 0.274778\n",
            "Train Epoch: 4 [1440/60000 (77%)]\tLoss: 0.362902\n",
            "Train Epoch: 4 [1460/60000 (78%)]\tLoss: 0.438881\n",
            "Train Epoch: 4 [1480/60000 (79%)]\tLoss: 0.438456\n",
            "Train Epoch: 4 [1500/60000 (80%)]\tLoss: 0.625281\n",
            "Train Epoch: 4 [1520/60000 (81%)]\tLoss: 0.466629\n",
            "Train Epoch: 4 [1540/60000 (82%)]\tLoss: 0.367303\n",
            "Train Epoch: 4 [1560/60000 (83%)]\tLoss: 0.294187\n",
            "Train Epoch: 4 [1580/60000 (84%)]\tLoss: 0.392439\n",
            "Train Epoch: 4 [1600/60000 (85%)]\tLoss: 0.140856\n",
            "Train Epoch: 4 [1620/60000 (86%)]\tLoss: 0.239964\n",
            "Train Epoch: 4 [1640/60000 (87%)]\tLoss: 0.509894\n",
            "Train Epoch: 4 [1660/60000 (88%)]\tLoss: 0.342361\n",
            "Train Epoch: 4 [1680/60000 (90%)]\tLoss: 0.325903\n",
            "Train Epoch: 4 [1700/60000 (91%)]\tLoss: 0.545191\n",
            "Train Epoch: 4 [1720/60000 (92%)]\tLoss: 0.116837\n",
            "Train Epoch: 4 [1740/60000 (93%)]\tLoss: 0.471862\n",
            "Train Epoch: 4 [1760/60000 (94%)]\tLoss: 0.278872\n",
            "Train Epoch: 4 [1780/60000 (95%)]\tLoss: 0.391147\n",
            "Train Epoch: 4 [1800/60000 (96%)]\tLoss: 0.255913\n",
            "Train Epoch: 4 [1820/60000 (97%)]\tLoss: 0.365594\n",
            "Train Epoch: 4 [1840/60000 (98%)]\tLoss: 0.276771\n",
            "Train Epoch: 4 [1860/60000 (99%)]\tLoss: 0.269717\n",
            "Test set: Avg. loss: 0.1279, Accuracy: 9628/10000 (96%)\n",
            "\n"
          ],
          "name": "stdout"
        },
        {
          "output_type": "execute_result",
          "data": {
            "text/plain": [
              "Text(0, 0.5, 'negative log likelihood loss')"
            ]
          },
          "metadata": {
            "tags": []
          },
          "execution_count": 9
        },
        {
          "output_type": "display_data",
          "data": {
            "image/png": "[encoded data removed]",
            "text/plain": [
              "<Figure size 432x288 with 1 Axes>"
            ]
          },
          "metadata": {
            "tags": []
          }
        }
      ]
    },
    {
      "cell_type": "markdown",
      "metadata": {
        "id": "Ltsr1tE-3o4Z"
      },
      "source": [
        "### Training and Evaluation"
      ]
    },
    {
      "cell_type": "code",
      "metadata": {
        "id": "xzpMr2uf11se"
      },
      "source": [
        ""
      ],
      "execution_count": 85,
      "outputs": []
    },
    {
      "cell_type": "code",
      "metadata": {
        "id": "noqU5SnmE51f"
      },
      "source": [
        ""
      ],
      "execution_count": 86,
      "outputs": []
    },
    {
      "cell_type": "code",
      "metadata": {
        "id": "Wtv--DfDFOz-"
      },
      "source": [
        ""
      ],
      "execution_count": 87,
      "outputs": []
    },
    {
      "cell_type": "code",
      "metadata": {
        "colab": {
          "base_uri": "https://localhost:8080/",
          "height": 475
        },
        "id": "KTCnNX61_0p4",
        "outputId": "3f07b24d-b438-4a40-ac92-f2dbda52645f"
      },
      "source": [
        ""
      ],
      "execution_count": 88,
      "outputs": [
        {
          "output_type": "stream",
          "text": [
            "/usr/local/lib/python3.6/dist-packages/ipykernel_launcher.py:18: UserWarning: Implicit dimension choice for log_softmax has been deprecated. Change the call to include dim=X as an argument.\n"
          ],
          "name": "stderr"
        },
        {
          "output_type": "stream",
          "text": [
            "\n",
            "Test set: Avg. loss: 0.0000, Accuracy: 8554/10000 (86%)\n",
            "\n",
            "\n",
            "Test set: Avg. loss: 0.0000, Accuracy: 9160/10000 (92%)\n",
            "\n",
            "\n",
            "Test set: Avg. loss: 0.0000, Accuracy: 9317/10000 (93%)\n",
            "\n"
          ],
          "name": "stdout"
        },
        {
          "output_type": "execute_result",
          "data": {
            "text/plain": [
              "[<matplotlib.lines.Line2D at 0x7f90917882e8>]"
            ]
          },
          "metadata": {
            "tags": []
          },
          "execution_count": 88
        },
        {
          "output_type": "display_data",
          "data": {
            "image/png": "[encoded data removed]",
            "text/plain": [
              "<Figure size 432x288 with 1 Axes>"
            ]
          },
          "metadata": {
            "tags": []
          }
        }
      ]
    },
    {
      "cell_type": "code",
      "metadata": {
        "colab": {
          "base_uri": "https://localhost:8080/",
          "height": 285
        },
        "id": "54cdF9NkK0GY",
        "outputId": "425d3e9e-a25d-4006-d9b7-6bfac27f2c45"
      },
      "source": [
        "plt.plot(train_losses)\n"
      ],
      "execution_count": 75,
      "outputs": [
        {
          "output_type": "execute_result",
          "data": {
            "text/plain": [
              "[<matplotlib.lines.Line2D at 0x7f90919ce860>]"
            ]
          },
          "metadata": {
            "tags": []
          },
          "execution_count": 75
        },
        {
          "output_type": "display_data",
          "data": {
            "image/png": "[encoded data removed]",
            "text/plain": [
              "<Figure size 432x288 with 1 Axes>"
            ]
          },
          "metadata": {
            "tags": []
          }
        }
      ]
    },
    {
      "cell_type": "code",
      "metadata": {
        "id": "_XS33WwJK2I9"
      },
      "source": [
        "plt.plot(test_losses)"
      ],
      "execution_count": null,
      "outputs": []
    },
    {
      "cell_type": "markdown",
      "metadata": {
        "id": "kAg4fEcS9156"
      },
      "source": [
        "## VAE"
      ]
    },
    {
      "cell_type": "code",
      "metadata": {
        "id": "DoZjwrH3xpei"
      },
      "source": [
        "#SEED = 100\n",
        "\n",
        "LAT_DIM = 2\n",
        "EPOCH_NUM = 50\n",
        "CAPACITY = 64\n",
        "LRN_RATE = 1e-3\n",
        "VAR_BETA = 1\n",
        "\n",
        "KERN_SIZE = 4\n",
        "STRIDE = 2\n",
        "PAD = 1"
      ],
      "execution_count": null,
      "outputs": []
    },
    {
      "cell_type": "code",
      "metadata": {
        "id": "UkcWN5LXyCEo"
      },
      "source": [
        "class Encoder(nn.Module):\n",
        "    def __init__(self):\n",
        "        super(Encoder, self).__init__()\n",
        "        \n",
        "        # CAPACITY * 14 * 14\n",
        "        self.conv1 = nn.Conv2d(\n",
        "            in_channels = 1,\n",
        "            out_channels = CAPACITY,\n",
        "            kernel_size = KERN_SIZE,\n",
        "            stride = STRIDE,\n",
        "            padding = PAD,\n",
        "        )\n",
        "        # CAPACITY * 7 * 7\n",
        "        self.conv2 = nn.Conv2d(\n",
        "            in_channels = CAPACITY,\n",
        "            out_channels = CAPACITY * 2,\n",
        "            kernel_size = KERN_SIZE,\n",
        "            stride = STRIDE,\n",
        "            padding = PAD,\n",
        "        )\n",
        "        self.fc_mu = nn.Linear(\n",
        "            in_features = CAPACITY * 2 * 7 * 7,\n",
        "            out_features = LAT_DIM,\n",
        "        )\n",
        "        self.fc_logvar = nn.Linear(\n",
        "            in_features = CAPACITY * 2 * 7 * 7,\n",
        "            out_features = LAT_DIM,\n",
        "        )\n",
        "        \n",
        "    def forward(self, x):\n",
        "        x = F.relu(self.conv2(\n",
        "            F.relu(self.conv1(x))\n",
        "        ))\n",
        "        x = x.view(x.size(0), -1)\n",
        "        x_mu = self.fc_mu(x)\n",
        "        x_logvar = self.fc_logvar(x)\n",
        "        return x_mu, x_logvar"
      ],
      "execution_count": null,
      "outputs": []
    },
    {
      "cell_type": "code",
      "metadata": {
        "id": "35jQ8f41zRFg"
      },
      "source": [
        "class Decoder(nn.Module):\n",
        "    def __init__(self):\n",
        "        super(Decoder, self).__init__()\n",
        "        \n",
        "        self.fc = nn.Linear(\n",
        "            in_features = LAT_DIM,\n",
        "            out_features = CAPACITY * 2 * 7 * 7,\n",
        "        )\n",
        "        self.conv2 = nn.ConvTranspose2d(\n",
        "            in_channels = CAPACITY * 2,\n",
        "            out_channels = CAPACITY,\n",
        "            kernel_size = KERN_SIZE,\n",
        "            stride = STRIDE,\n",
        "            padding = PAD,\n",
        "        )\n",
        "        self.conv1 = nn.ConvTranspose2d(\n",
        "            in_channels = CAPACITY,\n",
        "            out_channels = 1,\n",
        "            kernel_size = KERN_SIZE,\n",
        "            stride = STRIDE,\n",
        "            padding = PAD,\n",
        "        )\n",
        "\n",
        "    def forward(self, x):\n",
        "        x = self.fc(x)\n",
        "        return torch.sigmoid(self.conv1(\n",
        "                F.relu(self.conv2(\n",
        "                    x.view(x.size(0), CAPACITY * 2, 7, 7)\n",
        "            ))\n",
        "        ))"
      ],
      "execution_count": null,
      "outputs": []
    },
    {
      "cell_type": "code",
      "metadata": {
        "id": "PCQPtw5a3DQI"
      },
      "source": [
        "class VariationalAutoencoder(nn.Module):\n",
        "    def __init__(self):\n",
        "        super(VariationalAutoencoder, self).__init__()\n",
        "        \n",
        "        self.encoder = Encoder()\n",
        "        self.decoder = Decoder()\n",
        "\n",
        "    def forward(self, x):\n",
        "        latent_mu, latent_logvar = self.encoder(x)\n",
        "        latent = self.latent_sample(latent_mu, latent_logvar)\n",
        "        x_recon = self.decoder(latent)\n",
        "        return x_recon, latent_mu, latent_logvar\n",
        "\n",
        "    def latent_sample(self, mu, logvar):\n",
        "        if self.training:\n",
        "            # the reparameterization trick\n",
        "            std = logvar.mul(0.5).exp_()\n",
        "            eps = torch.empty_like(std).normal_()\n",
        "            return eps.mul(std).add_(mu)\n",
        "        else:\n",
        "            return mu"
      ],
      "execution_count": null,
      "outputs": []
    },
    {
      "cell_type": "code",
      "metadata": {
        "id": "e2CrBYQU4e8r"
      },
      "source": [
        "def reconstruction_error(recon_x, x):\n",
        "    return F.binary_cross_entropy(\n",
        "        recon_x.view(-1, 784),\n",
        "        x.view(-1, 784),\n",
        "        reduction = \"sum\",\n",
        "    )\n",
        "\n",
        "def vae_loss(recon_loss, mu, logvar):\n",
        "    kl_divergence = -0.5 * torch.sum(1 + logvar - mu.pow(2) - logvar.exp())\n",
        "    return recon_loss + VAR_BETA * kl_divergence"
      ],
      "execution_count": null,
      "outputs": []
    },
    {
      "cell_type": "markdown",
      "metadata": {
        "id": "N7XQuBW63DmN"
      },
      "source": [
        "### Training and Evaluation\n",
        "\n"
      ]
    },
    {
      "cell_type": "code",
      "metadata": {
        "id": "2FVd05s4I4YM"
      },
      "source": [
        "def plot_loss(train_losses, test_losses):\n",
        "    plt.ion()\n",
        "\n",
        "    plotlabels = [\"Total error\", \"Reconstruction error\"]\n",
        "    \n",
        "    ncols = 2\n",
        "    fig, ax = plt.subplots(ncols = ncols, figsize = (9, 2.5))\n",
        "    \n",
        "    for i in range(2): \n",
        "        ax[i].plot(train_losses[i], c = \"blue\", label = \"training\")\n",
        "        ax[i].plot(test_losses[i], c = \"red\", label = \"test\")\n",
        "            \n",
        "        ax[i].set_title(plotlabels[i])\n",
        "        \n",
        "    plt.xlabel('Epochs')\n",
        "    plt.tight_layout()\n",
        "    plt.ylabel(y)\n",
        "    plt.legend()\n",
        "    plt.show()"
      ],
      "execution_count": null,
      "outputs": []
    },
    {
      "cell_type": "code",
      "metadata": {
        "id": "isT5TzCPJEE1"
      },
      "source": [
        "def eval_model(vae):\n",
        "    vae.eval()\n",
        "    \n",
        "    test_loss_avg, test_recon_loss_avg, num_batches = 0, 0, 0\n",
        "    sum = 0\n",
        "    for image_batch, _ in test_dataloader:\n",
        "        \n",
        "        with torch.no_grad():\n",
        "        \n",
        "            image_batch = image_batch.to(device)\n",
        "    \n",
        "            # vae reconstruction\n",
        "            image_batch_recon, latent_mu, latent_logvar = vae(image_batch)\n",
        "    \n",
        "            # reconstruction error\n",
        "            recon_loss = reconstruction_error(image_batch_recon, image_batch)\n",
        "            loss = vae_loss(recon_loss, latent_mu, latent_logvar)\n",
        "    \n",
        "            test_recon_loss_avg += recon_loss\n",
        "            test_loss_avg += loss.item()\n",
        "            num_batches += 1\n",
        "        \n",
        "    test_recon_loss_avg /= num_batches\n",
        "    test_loss_avg /= num_batches\n",
        "\n",
        "    return test_recon_loss_avg, test_loss_avg\n",
        "    #print('average reconstruction error: %f' % (test_recon_loss_avg))\n",
        "    #print('average error: %f' % (test_loss_avg))"
      ],
      "execution_count": null,
      "outputs": []
    },
    {
      "cell_type": "code",
      "metadata": {
        "id": "Lb5IpN6M3KKk"
      },
      "source": [
        "def train_one_model(evaluate = False):\n",
        "    \"\"\" Creates and trains one VAE model.\n",
        "\n",
        "    Args:\n",
        "        evaluate: Whether or not to evaluate model during training.\n",
        "\n",
        "    Returns:\n",
        "        Tuple containing the trained model, average training reconstruction\n",
        "        error, average total training error, average testing reconstruction\n",
        "        error, and average total testing error.\n",
        "    \"\"\"\n",
        "\n",
        "    #torch.cuda.manual_seed(SEED)\n",
        "    vae = VariationalAutoencoder()\n",
        "    vae = vae.to(device)\n",
        "    \n",
        "    num_params = sum(p.numel() for p in vae.parameters() if p.requires_grad)\n",
        "    print('Number of parameters: %d' % num_params)\n",
        "    \n",
        "    optimizer = torch.optim.Adam(\n",
        "        params = vae.parameters(),\n",
        "        lr = LRN_RATE,\n",
        "        weight_decay = 1e-5,\n",
        "    )\n",
        "    \n",
        "    # set to training mode\n",
        "    vae.train()\n",
        "    \n",
        "    if evaluate:\n",
        "        train_recon_loss, train_loss = [], []\n",
        "        test_recon_loss, test_loss = [], []\n",
        "    \n",
        "    print(\"Training: \", end = \"\")\n",
        "    for epoch in range(EPOCH_NUM):\n",
        "        if evaluate:\n",
        "            train_loss.append(0)\n",
        "            train_recon_loss.append(0)\n",
        "        num_batches = 0\n",
        "        \n",
        "        for image_batch, _ in train_dataloader:\n",
        "            \n",
        "            image_batch = rot_transform(image_batch)\n",
        "            image_batch = image_batch.to(device)\n",
        "    \n",
        "            # vae reconstruction\n",
        "            image_batch_recon, latent_mu, latent_logvar = vae(image_batch)\n",
        "            \n",
        "            # reconstruction error\n",
        "            recon_loss = reconstruction_error(image_batch_recon, image_batch)\n",
        "            loss = vae_loss(recon_loss, latent_mu, latent_logvar)\n",
        "            \n",
        "            # backpropagation\n",
        "            optimizer.zero_grad()\n",
        "            loss.backward()\n",
        "            \n",
        "            # one step of the optmizer (using the gradients from backpropagation)\n",
        "            optimizer.step()\n",
        "            \n",
        "            if evaluate:\n",
        "                train_loss[-1] += loss.item()\n",
        "                train_recon_loss[-1] += recon_loss\n",
        "                \n",
        "            num_batches += 1\n",
        "            \n",
        "        if evaluate:\n",
        "            train_loss[-1] /= num_batches\n",
        "            train_recon_loss[-1] /= num_batches\n",
        "        \n",
        "            recon_loss_avg, loss_avg = eval_model(vae)\n",
        "            test_recon_loss.append(recon_loss_avg)\n",
        "            test_loss.append(loss_avg)\n",
        "            vae.train()\n",
        "        \n",
        "        print(\"%d, \" % (epoch+1), end = \"\")\n",
        "        \n",
        "    print()\n",
        "    if evaluate: \n",
        "        plot_loss(\n",
        "            [train_loss, train_recon_loss],\n",
        "            [test_loss, test_recon_loss],\n",
        "        )\n",
        "        \n",
        "    return vae"
      ],
      "execution_count": null,
      "outputs": []
    },
    {
      "cell_type": "code",
      "metadata": {
        "id": "idP_RI6bBttt"
      },
      "source": [
        "def train_and_test_models(\n",
        "    n, gamma_matrix, alpha_matrix, beta_matrix, evaluate = False,\n",
        "):\n",
        "    \"\"\"\n",
        "    Train n models and compute the MNIST heterogeneities on the models.\n",
        "\n",
        "    Returns:\n",
        "        Heterogeneity \"matrices\" that are lists of np arrrays.\n",
        "        matrix[i] is the heterogeneity array for vae_i\n",
        "        matrix[i][j] is the heterogeneity for digit_j for vae_i\n",
        "    \"\"\"\n",
        "    for _ in range(n):\n",
        "        vae = train_one_model(evaluate = evaluate)\n",
        "        \n",
        "        gammas, alphas, betas = calculate_rrh(vae)\n",
        "        gamma_matrix.append(gammas)\n",
        "        alpha_matrix.append(alphas)\n",
        "        beta_matrix.append(betas)\n",
        "    return gamma_matrix, alpha_matrix, beta_matrix\n",
        "\n",
        "def plot_rrh_matrices(gamma_matrix, alpha_matrix, beta_matrix):\n",
        "    gamma_avg = het_avg(gamma_matrix)\n",
        "    alpha_avg = het_avg(alpha_matrix)\n",
        "    beta_avg = het_avg(beta_matrix)\n",
        "    \n",
        "    gamma_sigma = het_sigma(gamma_matrix)\n",
        "    alpha_sigma = het_sigma(alpha_matrix)\n",
        "    beta_sigma = het_sigma(beta_matrix)\n",
        "    \n",
        "    plot_rrh(\n",
        "        gamma_avg, alpha_avg, beta_avg,\n",
        "        sigmas = [gamma_sigma, alpha_sigma, beta_sigma],\n",
        "    )"
      ],
      "execution_count": null,
      "outputs": []
    },
    {
      "cell_type": "markdown",
      "metadata": {
        "id": "bxImy1XR6FHR"
      },
      "source": [
        "## RRH for Gaussian Mixtures"
      ]
    },
    {
      "cell_type": "code",
      "metadata": {
        "id": "2H2L9XvS6Kwj"
      },
      "source": [
        "def mvn_renyi(C, q=1):\n",
        "    \"\"\" Computes the Rényi heterogeneity for a multivariate Gaussian \n",
        "    Arguments: \n",
        "        C: `ndarray((n,n))`. Covariance matrix\n",
        "        q: `0<float`. Order of the heterogeneity\n",
        "    Returns: \n",
        "        `float`\n",
        "    \"\"\"\n",
        "    n = C.shape[0]\n",
        "    SqrtDetC = np.sqrt(np.linalg.det(C))\n",
        "    if q == 1: \n",
        "        out = (2*np.pi*np.e)**(n/2) * SqrtDetC\n",
        "    elif q == np.inf: \n",
        "        out = (2*np.pi)**(n/2) * SqrtDetC\n",
        "    elif q!=1 and q!=0 and q!=np.inf:\n",
        "        out = ((2*np.pi)**(n/2))*(q**(n/(2*(q-1))))*SqrtDetC\n",
        "    return out"
      ],
      "execution_count": null,
      "outputs": []
    },
    {
      "cell_type": "code",
      "metadata": {
        "id": "TkLYVMBu6fDn"
      },
      "source": [
        "def mvn_renyi_alpha(C,  q=1):\n",
        "    \"\"\" Computes the alpha-heterogeneity for a Gaussian mixture where each sample has equal weight\n",
        "\n",
        "    Arguments: \n",
        "\n",
        "        cov: `ndarray((nsamples, n, n))`. Covariance matrices \n",
        "        q: `0<float`. Order of the heterogeneity metric\n",
        "\n",
        "    Returns: \n",
        "\n",
        "        `float`. The alpha-heterogeneity\n",
        "    \"\"\"\n",
        "    K, n, _ = C.shape\n",
        "    p = np.repeat(1/K, K)\n",
        "    if q == 1:\n",
        "        out = np.exp((n + np.sum(p*np.log(np.linalg.det(2*np.pi*C))))/2)\n",
        "    elif q!=np.inf and q!=1 and q!=0:\n",
        "        wbar = (p**q)/np.sum(p**q)\n",
        "        out = ((2*np.pi)**(n/2))*np.sum(wbar*np.sqrt(np.linalg.det(C)))/(q**(n/2))**(1/(1-q))\n",
        "    return out\n"
      ],
      "execution_count": null,
      "outputs": []
    },
    {
      "cell_type": "code",
      "metadata": {
        "id": "4aDzvMEx_X9r"
      },
      "source": [
        "def scale_to_cov(scales):\n",
        "    return np.vstack([np.expand_dims(np.diagflat(s), 0) for s in scales])"
      ],
      "execution_count": null,
      "outputs": []
    },
    {
      "cell_type": "code",
      "metadata": {
        "id": "DS7dTSHl_e2i"
      },
      "source": [
        "def pool_covariance(means, covs):\n",
        "    K = covs.shape[0] \n",
        "    p = np.repeat(1/K, K)\n",
        "    cov_ = np.einsum('ijk,i->jk', covs, p) + np.einsum('ij,ik,i->jk', means, means, p)\n",
        "    mu_ = np.einsum('ij,i->j', means, p)\n",
        "    return cov_ - np.einsum('i,j->ij', mu_, mu_)"
      ],
      "execution_count": null,
      "outputs": []
    },
    {
      "cell_type": "markdown",
      "metadata": {
        "id": "RG67lA7u6pAY"
      },
      "source": [
        "### Computation and plotting"
      ]
    },
    {
      "cell_type": "code",
      "metadata": {
        "id": "IinU-xeM6fg_"
      },
      "source": [
        "def calculate_rrh(vae, X = train_X, y = train_y):\n",
        "    gammas, alphas, betas = [], [], []\n",
        "    for i in range(10):\n",
        "        mu, logvar = vae.encoder(torch.Tensor(X[y == i]).to(device))\n",
        "        loc = mu.cpu().detach().numpy()\n",
        "        scale = logvar.exp().cpu().detach().numpy()\n",
        "        cov = scale_to_cov(scale)\n",
        "        gamma = mvn_renyi(pool_covariance(loc, cov), q=1)\n",
        "        alpha = mvn_renyi_alpha(cov,q=1)\n",
        "        beta = gamma/alpha\n",
        "        gammas.append(gamma)\n",
        "        alphas.append(alpha)\n",
        "        betas.append(beta)\n",
        "    return np.array(gammas), np.array(alphas), np.array(betas)"
      ],
      "execution_count": null,
      "outputs": []
    },
    {
      "cell_type": "code",
      "metadata": {
        "id": "xcRWRha365r-"
      },
      "source": [
        "def plot_rrh(gammas, alphas, betas, sigmas = None):\n",
        "    if not (len(gammas) == len(alphas) or len(gammas) == len(betas)):\n",
        "        sys.exit(\"Mismatched matrix size\")\n",
        "    n = len(gammas)\n",
        "    hetvalues = [gammas, alphas, betas]\n",
        "    plotlabels = [r\"Pooled\", r\"Within-Observation\", r\"Between-Observation\"]\n",
        "    \n",
        "    fig, ax = plt.subplots(ncols=3, figsize=(9, 2.5))\n",
        "    ax[0].set_ylabel(\"Heterogeneity\")\n",
        "    \n",
        "    for i in range(3): \n",
        "        ax[i].set_title(plotlabels[i])\n",
        "        ax[i].set_xlabel(\"Digit\")\n",
        "        ax[i].set_xticks(np.arange(10))\n",
        "        ax[i].set_xticklabels(np.arange(10))\n",
        "        ax[i].bar(\n",
        "            np.arange(10),\n",
        "            hetvalues[i],\n",
        "            facecolor = plt.get_cmap(\"Greys\")(0.4), \n",
        "            edgecolor = \"black\",\n",
        "        )\n",
        "        if not sigmas == None:\n",
        "            ax[i].errorbar(\n",
        "                np.arange(10),\n",
        "                hetvalues[i],\n",
        "                yerr = sigmas[i],\n",
        "                fmt = \"none\",\n",
        "                ecolor = \"r\",\n",
        "                capsize = 3,\n",
        "                label = \"std deviation\",\n",
        "            )\n",
        "            ax[i].errorbar(\n",
        "                np.arange(10),\n",
        "                hetvalues[i],\n",
        "                yerr = sigmas[i] / np.sqrt(n),\n",
        "                fmt = \"none\",\n",
        "                ecolor = \"b\",\n",
        "                capsize = 3,\n",
        "                label = \"std error\",\n",
        "            )\n",
        "    plt.tight_layout()\n",
        "    plt.show()\n",
        "    #plt.savefig(\"digit-class-heterogeneity.pdf\", bbox_inches=\"tight\")"
      ],
      "execution_count": null,
      "outputs": []
    },
    {
      "cell_type": "code",
      "metadata": {
        "id": "mOOtu98Jv1-_"
      },
      "source": [
        "def het_sigma(matrix, avg = None):\n",
        "    if avg == None:\n",
        "        avg = het_avg(matrix)\n",
        "    n = len(matrix)\n",
        "    mse = (matrix[0] - avg) ** 2\n",
        "    for i in range(1, n):\n",
        "        mse += (matrix[i] - avg) ** 2\n",
        "    return np.sqrt(mse / n)\n",
        "\n",
        "def het_sum(matrix):\n",
        "    sum = matrix[0] + matrix[1]\n",
        "    for i in range(2, len(matrix)):\n",
        "        sum += matrix[i]\n",
        "    return sum\n",
        "\n",
        "def het_avg(matrix):\n",
        "    return het_sum(matrix) / len(matrix)"
      ],
      "execution_count": null,
      "outputs": []
    },
    {
      "cell_type": "markdown",
      "metadata": {
        "id": "eM3hF-q0VipP"
      },
      "source": [
        "# Experiments"
      ]
    },
    {
      "cell_type": "code",
      "metadata": {
        "colab": {
          "base_uri": "https://localhost:8080/",
          "height": 69
        },
        "id": "bzmQvee5qsLp",
        "outputId": "16e71aba-8c45-47e8-e090-572981c08f14"
      },
      "source": [
        "\"\"\"\n",
        "N = 1\n",
        "n = 5\n",
        "gamma_matrix, alpha_matrix, beta_matrix = [], [], []\n",
        "for _ in range(N):\n",
        "    gamma_matrix, alpha_matrix, beta_matrix = train_and_test_models(\n",
        "        n, gamma_matrix, alpha_matrix, beta_matrix, evaluate = True,\n",
        "    )\n",
        "    plot_rrh_matrices(gamma_matrix, alpha_matrix, beta_matrix)\n",
        "\"\"\""
      ],
      "execution_count": null,
      "outputs": [
        {
          "output_type": "execute_result",
          "data": {
            "application/vnd.google.colaboratory.intrinsic+json": {
              "type": "string"
            },
            "text/plain": [
              "'\\nN = 1\\nn = 5\\ngamma_matrix, alpha_matrix, beta_matrix = [], [], []\\nfor _ in range(N):\\n    gamma_matrix, alpha_matrix, beta_matrix = train_and_test_models(\\n        n, gamma_matrix, alpha_matrix, beta_matrix, evaluate = True,\\n    )\\n    plot_rrh_matrices(gamma_matrix, alpha_matrix, beta_matrix)\\n'"
            ]
          },
          "metadata": {
            "tags": []
          },
          "execution_count": 21
        }
      ]
    },
    {
      "cell_type": "code",
      "metadata": {
        "colab": {
          "base_uri": "https://localhost:8080/",
          "height": 375
        },
        "id": "86cSR8lZ4AK7",
        "outputId": "c3ab9ab6-d65c-4d6b-b4aa-a1d757dfc8ee"
      },
      "source": [
        "vae1 = train_one_model()\n",
        "vae2 = train_one_model()"
      ],
      "execution_count": null,
      "outputs": [
        {
          "output_type": "stream",
          "text": [
            "Number of parameters: 308357\n",
            "Training: 1, 2, 3, 4, "
          ],
          "name": "stdout"
        },
        {
          "output_type": "error",
          "ename": "KeyboardInterrupt",
          "evalue": "ignored",
          "traceback": [
            "\u001b[0;31m---------------------------------------------------------------------------\u001b[0m",
            "\u001b[0;31mKeyboardInterrupt\u001b[0m                         Traceback (most recent call last)",
            "\u001b[0;32m<ipython-input-22-dddc9d0f330d>\u001b[0m in \u001b[0;36m<module>\u001b[0;34m()\u001b[0m\n\u001b[0;32m----> 1\u001b[0;31m \u001b[0mvae1\u001b[0m \u001b[0;34m=\u001b[0m \u001b[0mtrain_one_model\u001b[0m\u001b[0;34m(\u001b[0m\u001b[0;34m)\u001b[0m\u001b[0;34m\u001b[0m\u001b[0;34m\u001b[0m\u001b[0m\n\u001b[0m\u001b[1;32m      2\u001b[0m \u001b[0mvae2\u001b[0m \u001b[0;34m=\u001b[0m \u001b[0mtrain_one_model\u001b[0m\u001b[0;34m(\u001b[0m\u001b[0;34m)\u001b[0m\u001b[0;34m\u001b[0m\u001b[0;34m\u001b[0m\u001b[0m\n",
            "\u001b[0;32m<ipython-input-10-baaa6e65c826>\u001b[0m in \u001b[0;36mtrain_one_model\u001b[0;34m(evaluate)\u001b[0m\n\u001b[1;32m     55\u001b[0m \u001b[0;34m\u001b[0m\u001b[0m\n\u001b[1;32m     56\u001b[0m             \u001b[0;31m# one step of the optmizer (using the gradients from backpropagation)\u001b[0m\u001b[0;34m\u001b[0m\u001b[0;34m\u001b[0m\u001b[0;34m\u001b[0m\u001b[0m\n\u001b[0;32m---> 57\u001b[0;31m             \u001b[0moptimizer\u001b[0m\u001b[0;34m.\u001b[0m\u001b[0mstep\u001b[0m\u001b[0;34m(\u001b[0m\u001b[0;34m)\u001b[0m\u001b[0;34m\u001b[0m\u001b[0;34m\u001b[0m\u001b[0m\n\u001b[0m\u001b[1;32m     58\u001b[0m \u001b[0;34m\u001b[0m\u001b[0m\n\u001b[1;32m     59\u001b[0m             \u001b[0;32mif\u001b[0m \u001b[0mevaluate\u001b[0m\u001b[0;34m:\u001b[0m\u001b[0;34m\u001b[0m\u001b[0;34m\u001b[0m\u001b[0m\n",
            "\u001b[0;32m/usr/local/lib/python3.6/dist-packages/torch/autograd/grad_mode.py\u001b[0m in \u001b[0;36mdecorate_context\u001b[0;34m(*args, **kwargs)\u001b[0m\n\u001b[1;32m     24\u001b[0m         \u001b[0;32mdef\u001b[0m \u001b[0mdecorate_context\u001b[0m\u001b[0;34m(\u001b[0m\u001b[0;34m*\u001b[0m\u001b[0margs\u001b[0m\u001b[0;34m,\u001b[0m \u001b[0;34m**\u001b[0m\u001b[0mkwargs\u001b[0m\u001b[0;34m)\u001b[0m\u001b[0;34m:\u001b[0m\u001b[0;34m\u001b[0m\u001b[0;34m\u001b[0m\u001b[0m\n\u001b[1;32m     25\u001b[0m             \u001b[0;32mwith\u001b[0m \u001b[0mself\u001b[0m\u001b[0;34m.\u001b[0m\u001b[0m__class__\u001b[0m\u001b[0;34m(\u001b[0m\u001b[0;34m)\u001b[0m\u001b[0;34m:\u001b[0m\u001b[0;34m\u001b[0m\u001b[0;34m\u001b[0m\u001b[0m\n\u001b[0;32m---> 26\u001b[0;31m                 \u001b[0;32mreturn\u001b[0m \u001b[0mfunc\u001b[0m\u001b[0;34m(\u001b[0m\u001b[0;34m*\u001b[0m\u001b[0margs\u001b[0m\u001b[0;34m,\u001b[0m \u001b[0;34m**\u001b[0m\u001b[0mkwargs\u001b[0m\u001b[0;34m)\u001b[0m\u001b[0;34m\u001b[0m\u001b[0;34m\u001b[0m\u001b[0m\n\u001b[0m\u001b[1;32m     27\u001b[0m         \u001b[0;32mreturn\u001b[0m \u001b[0mcast\u001b[0m\u001b[0;34m(\u001b[0m\u001b[0mF\u001b[0m\u001b[0;34m,\u001b[0m \u001b[0mdecorate_context\u001b[0m\u001b[0;34m)\u001b[0m\u001b[0;34m\u001b[0m\u001b[0;34m\u001b[0m\u001b[0m\n\u001b[1;32m     28\u001b[0m \u001b[0;34m\u001b[0m\u001b[0m\n",
            "\u001b[0;32m/usr/local/lib/python3.6/dist-packages/torch/optim/adam.py\u001b[0m in \u001b[0;36mstep\u001b[0;34m(self, closure)\u001b[0m\n\u001b[1;32m    117\u001b[0m                    \u001b[0mgroup\u001b[0m\u001b[0;34m[\u001b[0m\u001b[0;34m'lr'\u001b[0m\u001b[0;34m]\u001b[0m\u001b[0;34m,\u001b[0m\u001b[0;34m\u001b[0m\u001b[0;34m\u001b[0m\u001b[0m\n\u001b[1;32m    118\u001b[0m                    \u001b[0mgroup\u001b[0m\u001b[0;34m[\u001b[0m\u001b[0;34m'weight_decay'\u001b[0m\u001b[0;34m]\u001b[0m\u001b[0;34m,\u001b[0m\u001b[0;34m\u001b[0m\u001b[0;34m\u001b[0m\u001b[0m\n\u001b[0;32m--> 119\u001b[0;31m                    \u001b[0mgroup\u001b[0m\u001b[0;34m[\u001b[0m\u001b[0;34m'eps'\u001b[0m\u001b[0;34m]\u001b[0m\u001b[0;34m\u001b[0m\u001b[0;34m\u001b[0m\u001b[0m\n\u001b[0m\u001b[1;32m    120\u001b[0m                    )\n\u001b[1;32m    121\u001b[0m         \u001b[0;32mreturn\u001b[0m \u001b[0mloss\u001b[0m\u001b[0;34m\u001b[0m\u001b[0;34m\u001b[0m\u001b[0m\n",
            "\u001b[0;32m/usr/local/lib/python3.6/dist-packages/torch/optim/functional.py\u001b[0m in \u001b[0;36madam\u001b[0;34m(params, grads, exp_avgs, exp_avg_sqs, max_exp_avg_sqs, state_steps, amsgrad, beta1, beta2, lr, weight_decay, eps)\u001b[0m\n\u001b[1;32m     92\u001b[0m             \u001b[0mdenom\u001b[0m \u001b[0;34m=\u001b[0m \u001b[0;34m(\u001b[0m\u001b[0mmax_exp_avg_sq\u001b[0m\u001b[0;34m.\u001b[0m\u001b[0msqrt\u001b[0m\u001b[0;34m(\u001b[0m\u001b[0;34m)\u001b[0m \u001b[0;34m/\u001b[0m \u001b[0mmath\u001b[0m\u001b[0;34m.\u001b[0m\u001b[0msqrt\u001b[0m\u001b[0;34m(\u001b[0m\u001b[0mbias_correction2\u001b[0m\u001b[0;34m)\u001b[0m\u001b[0;34m)\u001b[0m\u001b[0;34m.\u001b[0m\u001b[0madd_\u001b[0m\u001b[0;34m(\u001b[0m\u001b[0meps\u001b[0m\u001b[0;34m)\u001b[0m\u001b[0;34m\u001b[0m\u001b[0;34m\u001b[0m\u001b[0m\n\u001b[1;32m     93\u001b[0m         \u001b[0;32melse\u001b[0m\u001b[0;34m:\u001b[0m\u001b[0;34m\u001b[0m\u001b[0;34m\u001b[0m\u001b[0m\n\u001b[0;32m---> 94\u001b[0;31m             \u001b[0mdenom\u001b[0m \u001b[0;34m=\u001b[0m \u001b[0;34m(\u001b[0m\u001b[0mexp_avg_sq\u001b[0m\u001b[0;34m.\u001b[0m\u001b[0msqrt\u001b[0m\u001b[0;34m(\u001b[0m\u001b[0;34m)\u001b[0m \u001b[0;34m/\u001b[0m \u001b[0mmath\u001b[0m\u001b[0;34m.\u001b[0m\u001b[0msqrt\u001b[0m\u001b[0;34m(\u001b[0m\u001b[0mbias_correction2\u001b[0m\u001b[0;34m)\u001b[0m\u001b[0;34m)\u001b[0m\u001b[0;34m.\u001b[0m\u001b[0madd_\u001b[0m\u001b[0;34m(\u001b[0m\u001b[0meps\u001b[0m\u001b[0;34m)\u001b[0m\u001b[0;34m\u001b[0m\u001b[0;34m\u001b[0m\u001b[0m\n\u001b[0m\u001b[1;32m     95\u001b[0m \u001b[0;34m\u001b[0m\u001b[0m\n\u001b[1;32m     96\u001b[0m         \u001b[0mstep_size\u001b[0m \u001b[0;34m=\u001b[0m \u001b[0mlr\u001b[0m \u001b[0;34m/\u001b[0m \u001b[0mbias_correction1\u001b[0m\u001b[0;34m\u001b[0m\u001b[0;34m\u001b[0m\u001b[0m\n",
            "\u001b[0;31mKeyboardInterrupt\u001b[0m: "
          ]
        }
      ]
    },
    {
      "cell_type": "markdown",
      "metadata": {
        "id": "Lvx8i8Ct9yMR"
      },
      "source": [
        "## Load, Evaluate, and Plot RRH for Pre-Trained VAE"
      ]
    },
    {
      "cell_type": "code",
      "metadata": {
        "id": "vNRYGlvQ5O77"
      },
      "source": [
        "def load_pretrained_vae():\n",
        "    pretrained_vae = VariationalAutoencoder()\n",
        "    pretrained_vae = pretrained_vae.to(device)\n",
        "    \n",
        "    filename = 'vae_2d.pth'\n",
        "    \n",
        "    if not os.path.isdir('./pretrained'):\n",
        "        os.makedirs('./pretrained')\n",
        "    urllib.request.urlretrieve(\n",
        "        \"http://geometry.cs.ucl.ac.uk/creativeai/pretrained/\" + filename,\n",
        "        \"./pretrained/\" + filename,\n",
        "    )\n",
        "    pretrained_vae.load_state_dict(torch.load('./pretrained/' + filename))\n",
        "    return pretrained_vae"
      ],
      "execution_count": null,
      "outputs": []
    },
    {
      "cell_type": "code",
      "metadata": {
        "id": "nRS4NG0mJJZY",
        "colab": {
          "base_uri": "https://localhost:8080/"
        },
        "outputId": "c96140ee-ff98-4e1a-8ab9-31e20d76573f"
      },
      "source": [
        "pretrained_vae = load_pretrained_vae()\n",
        "eval_model(pretrained_vae)"
      ],
      "execution_count": null,
      "outputs": [
        {
          "output_type": "execute_result",
          "data": {
            "text/plain": [
              "(tensor(18493.6641, device='cuda:0'), 19294.807005290742)"
            ]
          },
          "metadata": {
            "tags": []
          },
          "execution_count": 24
        }
      ]
    },
    {
      "cell_type": "code",
      "metadata": {
        "id": "_nN1Kftyh42Z",
        "colab": {
          "base_uri": "https://localhost:8080/",
          "height": 353
        },
        "outputId": "11033c6d-1586-4c2d-ddef-8da7f60e5d74"
      },
      "source": [
        "gammas, alphas, betas = calculate_rrh(pretrained_vae)\n",
        "plot_rrh(gammas, alphas, betas)\n",
        "\n",
        "gammas, alphas, betas = calculate_rrh(pretrained_vae, X = test_X, y = test_y)\n",
        "plot_rrh(gammas, alphas, betas)"
      ],
      "execution_count": null,
      "outputs": [
        {
          "output_type": "display_data",
          "data": {
            "image/png": "[encoded data removed]",
            "text/plain": [
              "<Figure size 648x180 with 3 Axes>"
            ]
          },
          "metadata": {
            "tags": []
          }
        },
        {
          "output_type": "display_data",
          "data": {
            "image/png": "[encoded data removed]",
            "text/plain": [
              "<Figure size 648x180 with 3 Axes>"
            ]
          },
          "metadata": {
            "tags": []
          }
        }
      ]
    },
    {
      "cell_type": "code",
      "metadata": {
        "id": "vzodKmcX0SLi"
      },
      "source": [
        "def to_img(x):\n",
        "    x = x.clamp(0, 1)\n",
        "    return x\n",
        "\n",
        "def show_image(img):\n",
        "    img = to_img(img)\n",
        "    npimg = img.numpy()\n",
        "    plt.imshow(np.transpose(npimg, (1, 2, 0)))\n",
        "\n",
        "def visualize_latent_space(vae):\n",
        "    vae.eval()\n",
        "\n",
        "    bound = 2.5\n",
        "    nsteps = 20 \n",
        "    with torch.no_grad():\n",
        "        latent_x = np.linspace(-bound,bound,nsteps)\n",
        "        latent_y = np.linspace(-bound,bound,nsteps)\n",
        "        latents = torch.FloatTensor(len(latent_x), len(latent_y), 2)\n",
        "        for i, lx in enumerate(latent_x):\n",
        "            for j, ly in enumerate(latent_y):\n",
        "                latents[j, i, 0] = lx\n",
        "                latents[j, i, 1] = ly\n",
        "        latents = latents.view(-1, 2) # flatten grid into a batch\n",
        "    \n",
        "        # reconstruct images from the latent vectors\n",
        "        latents = latents.to(device)\n",
        "        image_recon = vae.decoder(latents)\n",
        "        image_recon = image_recon.cpu()\n",
        "    \n",
        "        fig, ax = plt.subplots(figsize=(10, 10))\n",
        "        show_image(\n",
        "            torchvision.utils.make_grid(\n",
        "                image_recon.data[:int(nsteps**2)], nsteps, 5,\n",
        "            )\n",
        "        )\n",
        "        ax.set_xticks([]); ax.set_xticklabels([])\n",
        "        ax.set_yticks([]); ax.set_yticklabels([])\n",
        "        #plt.savefig(\"latent-space-map.pdf\", bbox_inches=\"tight\")\n",
        "\n"
      ],
      "execution_count": null,
      "outputs": []
    },
    {
      "cell_type": "code",
      "metadata": {
        "id": "8v0TSx231Las"
      },
      "source": [
        "visualize_latent_space(vae1)"
      ],
      "execution_count": null,
      "outputs": []
    },
    {
      "cell_type": "code",
      "metadata": {
        "id": "0_NVuvet7_e4"
      },
      "source": [
        "visualize_latent_space(vae2)"
      ],
      "execution_count": null,
      "outputs": []
    },
    {
      "cell_type": "code",
      "metadata": {
        "id": "LsksiYr20gME"
      },
      "source": [
        "visualize_latent_space(pretrained_vae)"
      ],
      "execution_count": null,
      "outputs": []
    },
    {
      "cell_type": "code",
      "metadata": {
        "id": "fa8BsW-sxvOf"
      },
      "source": [
        "def visualise_output(images, model, title = \"DEFAULT\"):\n",
        "\n",
        "    with torch.no_grad():\n",
        "    \n",
        "        images = images.to(device)\n",
        "        images, _, _ = model(images)\n",
        "        images = images.cpu()\n",
        "        images = to_img(images)\n",
        "        np_imagegrid = torchvision.utils.make_grid(images[0:IMG_NUM], WIDTH, HEIGHT).numpy()\n",
        "        plt.imshow(np.transpose(np_imagegrid, (1, 2, 0)))\n",
        "        plt.title(title)\n",
        "        plt.show()"
      ],
      "execution_count": null,
      "outputs": []
    },
    {
      "cell_type": "code",
      "metadata": {
        "id": "dxYy03Fdtlwn"
      },
      "source": [
        "IMG_NUM = 100\n",
        "WIDTH = 10\n",
        "HEIGHT = 10\n",
        "\n",
        "sns.set(style = \"dark\")\n",
        "\n",
        "images, labels = iter(test_dataloader).next()\n",
        "\n",
        "# First visualise the original images\n",
        "print('Original images')\n",
        "show_image(torchvision.utils.make_grid(images[0:IMG_NUM], WIDTH, HEIGHT))\n",
        "plt.title(\"Original\")\n",
        "plt.show()\n",
        "\n",
        "\n",
        "visualise_output(images, vae1, title = \"VAE 1\")\n",
        "\n",
        "visualise_output(images, vae2, title = \"VAE 2\")\n",
        "\n",
        "visualise_output(images, pretrained_vae, title = \"Pretrained VAE\")"
      ],
      "execution_count": null,
      "outputs": []
    },
    {
      "cell_type": "code",
      "metadata": {
        "id": "zjWWbUCA0oKk"
      },
      "source": [
        ""
      ],
      "execution_count": null,
      "outputs": []
    }
  ]
}