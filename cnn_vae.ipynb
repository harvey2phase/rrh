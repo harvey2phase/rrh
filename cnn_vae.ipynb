{
  "nbformat": 4,
  "nbformat_minor": 0,
  "metadata": {
    "accelerator": "GPU",
    "colab": {
      "name": "cnn_vae.ipynb",
      "provenance": [],
      "collapsed_sections": [
        "aV6OHMOclUHL",
        "dmjXvenrSLpE"
      ],
      "include_colab_link": true
    },
    "kernelspec": {
      "display_name": "Python 3",
      "name": "python3"
    }
  },
  "cells": [
    {
      "cell_type": "markdown",
      "metadata": {
        "id": "view-in-github",
        "colab_type": "text"
      },
      "source": [
        "<a href=\"https://colab.research.google.com/github/harvey2phase/rrh-MNIST/blob/main/cnn_vae.ipynb\" target=\"_parent\"><img src=\"https://colab.research.google.com/assets/colab-badge.svg\" alt=\"Open In Colab\"/></a>"
      ]
    },
    {
      "cell_type": "code",
      "metadata": {
        "id": "E-tpEynz7GP7",
        "colab": {
          "base_uri": "https://localhost:8080/"
        },
        "outputId": "22aeaaa6-531e-43f0-f4d6-5cd20e542b9c"
      },
      "source": [
        "from google.colab import drive\n",
        "GDRIVE = '/content/gdrive'\n",
        "drive.mount(GDRIVE)"
      ],
      "execution_count": null,
      "outputs": [
        {
          "output_type": "stream",
          "text": [
            "Drive already mounted at /content/gdrive; to attempt to forcibly remount, call drive.mount(\"/content/gdrive\", force_remount=True).\n"
          ],
          "name": "stdout"
        }
      ]
    },
    {
      "cell_type": "markdown",
      "metadata": {
        "id": "w3YjSP3vA5Jc"
      },
      "source": [
        "# Setup"
      ]
    },
    {
      "cell_type": "code",
      "metadata": {
        "id": "Gq23LXs7lbpj"
      },
      "source": [
        "import os\n",
        "\n",
        "MY_DRIVE = \"/content/gdrive/My Drive/\"\n",
        "\n",
        "def mkdir(path):\n",
        "    if os.path.exists(path):\n",
        "        print(\"Directory %s already exists!\" % path)\n",
        "    else:\n",
        "        try:\n",
        "            os.mkdir(path)\n",
        "        except OSError:\n",
        "            print(\"Creation of the directory %s failed\" % path)\n",
        "        else:\n",
        "            print(\"Successfully created the directory %s \" % path)"
      ],
      "execution_count": null,
      "outputs": []
    },
    {
      "cell_type": "code",
      "metadata": {
        "id": "2JmIrFw-0GXL"
      },
      "source": [
        "import seaborn as sns\n",
        "sns.set()"
      ],
      "execution_count": null,
      "outputs": []
    },
    {
      "cell_type": "code",
      "metadata": {
        "id": "nlBt0FWz8iXu"
      },
      "source": [
        "import datetime\n",
        "\n",
        "import urllib\n",
        "import numpy as np\n",
        "import matplotlib.pyplot as plt"
      ],
      "execution_count": null,
      "outputs": []
    },
    {
      "cell_type": "code",
      "metadata": {
        "id": "TFpBblS_eLg1"
      },
      "source": [
        "import torch\n",
        "import torch.nn as nn\n",
        "import torch.nn.functional as F\n",
        "import torchvision.utils\n",
        "import torchvision.transforms as transforms\n",
        "\n",
        "from torch.utils.data import DataLoader\n",
        "from torchvision.datasets import MNIST\n",
        "from torch.optim.lr_scheduler import StepLR\n",
        "\n",
        "GPU = True\n",
        "device = torch.device(\"cuda:0\" if GPU and torch.cuda.is_available() else \"cpu\")"
      ],
      "execution_count": null,
      "outputs": []
    },
    {
      "cell_type": "code",
      "metadata": {
        "id": "6ZnAAVAg-cYx"
      },
      "source": [
        "def plot(x, x_recon):\n",
        "    count = 0\n",
        "    for i in range(10):\n",
        "        fig = plt.figure()\n",
        "        ax = fig.add_subplot(111)\n",
        "        ax.scatter(np.linspace(0, 127, 128), x.detach().cpu()[i], c = \"blue\")\n",
        "        ax.scatter(np.linspace(0, 127, 128), x_recon.detach().cpu()[i], c = \"red\")\n",
        "        plt.show()"
      ],
      "execution_count": null,
      "outputs": []
    },
    {
      "cell_type": "markdown",
      "metadata": {
        "id": "hfwhdEx46mFx"
      },
      "source": [
        "# Load MNIST"
      ]
    },
    {
      "cell_type": "code",
      "metadata": {
        "id": "o8UxKtJy51hY"
      },
      "source": [
        "TRAIN_BATCH_SIZE = 64\n",
        "TEST_BATCH_SIZE = 1000"
      ],
      "execution_count": null,
      "outputs": []
    },
    {
      "cell_type": "code",
      "metadata": {
        "id": "R9VbzfzV47ON"
      },
      "source": [
        "def load_mnist(train, batch_size):\n",
        "    img_transform = transforms.Compose([\n",
        "        transforms.ToTensor(),\n",
        "        #transforms.Normalize((0.1307,), (0.3081,)),\n",
        "    ])\n",
        "    \n",
        "    dataset = MNIST(\n",
        "        root = './data/MNIST',\n",
        "        download = True,\n",
        "        train = train,\n",
        "        transform = img_transform,\n",
        "    )\n",
        "    return DataLoader(dataset, batch_size = batch_size, shuffle = True)"
      ],
      "execution_count": null,
      "outputs": []
    },
    {
      "cell_type": "code",
      "metadata": {
        "id": "vSlDXhl-77_a"
      },
      "source": [
        "train_dataloader = load_mnist(True, TRAIN_BATCH_SIZE)\n",
        "test_dataloader = load_mnist(False, TEST_BATCH_SIZE)"
      ],
      "execution_count": null,
      "outputs": []
    },
    {
      "cell_type": "code",
      "metadata": {
        "id": "6YOXgKK0jsIr"
      },
      "source": [
        "# Place into numpy arrays for easier manipulation\n",
        "traindata = list(train_dataloader)\n",
        "traindata = [[sample[0].numpy(), sample[1].numpy()] for sample in traindata]\n",
        "train_X = np.vstack([sample[0] for sample in traindata])\n",
        "train_y = np.hstack([sample[1] for sample in traindata])\n",
        "\n",
        "testdata = list(test_dataloader)\n",
        "testdata = [[sample[0].numpy(), sample[1].numpy()] for sample in testdata]\n",
        "test_X = np.vstack([sample[0] for sample in testdata])\n",
        "test_y = np.hstack([sample[1] for sample in testdata])"
      ],
      "execution_count": null,
      "outputs": []
    },
    {
      "cell_type": "markdown",
      "metadata": {
        "id": "ugFXXKS40L21"
      },
      "source": [
        "# Model Definitions"
      ]
    },
    {
      "cell_type": "code",
      "metadata": {
        "id": "SNN5g5cThMYp"
      },
      "source": [
        "def freeze(model):\n",
        "    for param in model.parameters():\n",
        "        param.requires_grad = False"
      ],
      "execution_count": null,
      "outputs": []
    },
    {
      "cell_type": "markdown",
      "metadata": {
        "id": "tMvoDB4Pz-fN"
      },
      "source": [
        "## CNN"
      ]
    },
    {
      "cell_type": "code",
      "metadata": {
        "id": "hQxQ4mV866aL"
      },
      "source": [
        "CNN_EPOCH = 14\n",
        "LR = 1.0\n",
        "GAMMA = 0.7"
      ],
      "execution_count": null,
      "outputs": []
    },
    {
      "cell_type": "code",
      "metadata": {
        "id": "Q3NMdQ3IEksj"
      },
      "source": [
        "class Net(nn.Module):\n",
        "    def __init__(self):\n",
        "        super(Net, self).__init__()\n",
        "        self.conv1 = nn.Conv2d(1, 32, 3, 1)\n",
        "        self.conv2 = nn.Conv2d(32, 64, 3, 1)\n",
        "        self.dropout1 = nn.Dropout(0.25)\n",
        "        self.dropout2 = nn.Dropout(0.5)\n",
        "        self.fc1 = nn.Linear(9216, 128)\n",
        "        self.fc2 = nn.Linear(128, 10)\n",
        "\n",
        "    def forward(self, x):\n",
        "        x = self.penultimate_layers(x)\n",
        "        x = F.relu(x)\n",
        "        x = self.dropout2(x)\n",
        "        x = self.fc2(x)\n",
        "        \n",
        "        return F.log_softmax(x, dim=1)\n",
        "\n",
        "    def penultimate_layers(self, x):\n",
        "        x = self.conv1(x)\n",
        "        x = F.relu(x)\n",
        "        x = self.conv2(x)\n",
        "        x = F.relu(x)\n",
        "        x = F.max_pool2d(x, 2)\n",
        "        x = self.dropout1(x)\n",
        "        x = torch.flatten(x, 1)\n",
        "        x = self.fc1(x)\n",
        "        return x"
      ],
      "execution_count": null,
      "outputs": []
    },
    {
      "cell_type": "markdown",
      "metadata": {
        "id": "Ltsr1tE-3o4Z"
      },
      "source": [
        "### Training and Evaluation"
      ]
    },
    {
      "cell_type": "code",
      "metadata": {
        "id": "Zw9LQeR8z__y"
      },
      "source": [
        "def train(model, optimizer):\n",
        "    model.train()\n",
        "    \n",
        "    for batch_idx, (data, target) in enumerate(train_dataloader):\n",
        "        data, target = data.to(device), target.to(device)\n",
        "        optimizer.zero_grad()\n",
        "        output = model(data)\n",
        "        loss = F.nll_loss(output, target)\n",
        "        loss.backward()\n",
        "        optimizer.step()\n",
        "\n",
        "def test(model):\n",
        "    model.eval()\n",
        "    test_loss = 0\n",
        "    correct = 0\n",
        "    with torch.no_grad():\n",
        "        for data, target in test_dataloader:\n",
        "            data, target = data.to(device), target.to(device)\n",
        "            output = model(data)\n",
        "            # sum up batch loss\n",
        "            test_loss += F.nll_loss(output, target, reduction='sum').item()  \n",
        "            # get the index of the max log-probability\n",
        "            pred = output.argmax(dim = 1, keepdim = True)  \n",
        "            correct += pred.eq(target.view_as(pred)).sum().item()\n",
        "\n",
        "    test_loss /= len(test_dataloader.dataset)\n",
        "\n",
        "    print('Test set: Average loss: {:.4f}, Accuracy: {}/{} ({:.0f}%)'.format(\n",
        "        test_loss, correct, len(test_dataloader.dataset),\n",
        "        100. * correct / len(test_dataloader.dataset)))"
      ],
      "execution_count": null,
      "outputs": []
    },
    {
      "cell_type": "markdown",
      "metadata": {
        "id": "aV6OHMOclUHL"
      },
      "source": [
        "### Train and save CNN"
      ]
    },
    {
      "cell_type": "code",
      "metadata": {
        "id": "m_tg2DAD7U3w"
      },
      "source": [
        "def create_and_train_cnn():\n",
        "    cnn = Net().to(device)\n",
        "    optimizer = torch.optim.Adadelta(cnn.parameters(), lr = LR)\n",
        "    \n",
        "    scheduler = StepLR(optimizer, step_size=1, gamma=GAMMA)\n",
        "    for epoch in range(1, CNN_EPOCH + 1):\n",
        "        train(cnn, optimizer)\n",
        "        test(cnn)\n",
        "        scheduler.step()\n",
        "        \n",
        "    date = datetime.date.today().strftime(\"%m-%d\")\n",
        "    model_name = date + \"_epoch=\" + str(CNN_EPOCH) + \".pth\"\n",
        "    optimizer_name = date + \"_adadelta\" + \".pth\"\n",
        "    torch.save(cnn.state_dict(), MY_DRIVE + \"cnn/\" + model_name)\n",
        "    torch.save(optimizer.state_dict(), MY_DRIVE + \"cnn/\" + optimizer_name)\n",
        "    return cnn"
      ],
      "execution_count": null,
      "outputs": []
    },
    {
      "cell_type": "markdown",
      "metadata": {
        "id": "dmjXvenrSLpE"
      },
      "source": [
        "### Load saved CNN"
      ]
    },
    {
      "cell_type": "code",
      "metadata": {
        "id": "kvAJ5sBODp5e"
      },
      "source": [
        "def load_cnn(model_name, optimizer_name = None):\n",
        "    cnn = Net()\n",
        "    cnn.load_state_dict(torch.load(MY_DRIVE + \"cnn/\" + model_name))\n",
        "    cnn.to(device)\n",
        "    return cnn"
      ],
      "execution_count": null,
      "outputs": []
    },
    {
      "cell_type": "markdown",
      "metadata": {
        "id": "kAg4fEcS9156"
      },
      "source": [
        "## VAE"
      ]
    },
    {
      "cell_type": "code",
      "metadata": {
        "id": "PCQPtw5a3DQI"
      },
      "source": [
        "LAT_DIM = 2\n",
        "CAPACITY = 64\n",
        "LRN_RATE = 1e-3\n",
        "VAR_BETA = 1\n",
        "\n",
        "class Encoder(nn.Module):\n",
        "    def __init__(self):\n",
        "        super(Encoder, self).__init__()\n",
        "        \n",
        "        self.hidden1 = nn.Linear(\n",
        "            in_features = 128,\n",
        "            out_features = CAPACITY,\n",
        "        )\n",
        "        self.dropout1 = nn.Dropout(0.5)\n",
        "        self.bn1 = nn.BatchNorm1d(CAPACITY)\n",
        "        self.fc_mu = nn.Linear(\n",
        "            in_features = CAPACITY,\n",
        "            out_features = LAT_DIM,\n",
        "        )\n",
        "        self.fc_logvar = nn.Linear(\n",
        "            in_features = CAPACITY,\n",
        "            out_features = LAT_DIM,\n",
        "        )\n",
        "        \n",
        "    def forward(self, x):\n",
        "        x = self.hidden1(x)\n",
        "        #x = self.bn1(x)\n",
        "        x = F.relu(x)\n",
        "        #x = self.dropout1(x)\n",
        "        x_mu = self.fc_mu(x)\n",
        "        x_logvar = self.fc_logvar(x)\n",
        "        return x_mu, x_logvar\n",
        "\n",
        "class Decoder(nn.Module):\n",
        "    def __init__(self):\n",
        "        super(Decoder, self).__init__()\n",
        "        \n",
        "        self.hidden1 = nn.Linear(\n",
        "            in_features = LAT_DIM,\n",
        "            out_features = CAPACITY,\n",
        "        )\n",
        "        self.dropout1 = nn.Dropout(0.5)\n",
        "        self.bn1 = nn.BatchNorm1d(CAPACITY)\n",
        "        self.output = nn.Linear(\n",
        "            in_features = CAPACITY,\n",
        "            out_features = 128,\n",
        "        )\n",
        "\n",
        "    def forward(self, x):\n",
        "        x = self.hidden1(x)\n",
        "        #x = self.bn1(x)\n",
        "        x = F.relu(x)\n",
        "        #x = self.dropout1(x)\n",
        "        x = self.output(x)\n",
        "        x = x.view(x.size(0), 128)\n",
        "        return x\n",
        "\n",
        "class VariationalAutoencoder(nn.Module):\n",
        "    def __init__(self):\n",
        "        super(VariationalAutoencoder, self).__init__()\n",
        "        \n",
        "        self.encoder = Encoder()\n",
        "        self.decoder = Decoder()\n",
        "\n",
        "    def forward(self, x):\n",
        "        latent_mu, latent_logvar = self.encoder(x)\n",
        "        latent = self.latent_sample(latent_mu, latent_logvar)\n",
        "        x_recon = self.decoder(latent)\n",
        "        return x_recon, latent_mu, latent_logvar\n",
        "\n",
        "    def latent_sample(self, mu, logvar):\n",
        "        if self.training:\n",
        "            # the reparameterization trick\n",
        "            std = logvar.mul(0.5).exp_()\n",
        "            eps = torch.empty_like(std).normal_()\n",
        "            return eps.mul(std).add_(mu)\n",
        "        else:\n",
        "            return mu"
      ],
      "execution_count": null,
      "outputs": []
    },
    {
      "cell_type": "code",
      "metadata": {
        "id": "e2CrBYQU4e8r"
      },
      "source": [
        "def reconstruction_error(recon_x, x):\n",
        "    return F.mse_loss(\n",
        "        recon_x.view(-1, 128),\n",
        "        x.view(-1, 128),\n",
        "        reduction = \"sum\",\n",
        "    )\n",
        "\n",
        "def vae_loss(recon_loss, mu, logvar):\n",
        "    kl_divergence = -0.5 * torch.sum(1 + logvar - mu.pow(2) - logvar.exp())\n",
        "    return recon_loss + VAR_BETA * kl_divergence"
      ],
      "execution_count": null,
      "outputs": []
    },
    {
      "cell_type": "markdown",
      "metadata": {
        "id": "N7XQuBW63DmN"
      },
      "source": [
        "### Training and Evaluation\n",
        "\n"
      ]
    },
    {
      "cell_type": "code",
      "metadata": {
        "id": "Lb5IpN6M3KKk"
      },
      "source": [
        "def train_vae(\n",
        "    vae = None, optimizer = None, evaluate = True, norm = True, \n",
        "):\n",
        "    \"\"\" Trains, and returns one VAE model \"\"\"\n",
        "    \n",
        "    if vae == None:\n",
        "        vae = VariationalAutoencoder()\n",
        "        vae = vae.to(device)\n",
        "    \n",
        "    if optimizer == None:\n",
        "        optimizer = torch.optim.Adam(\n",
        "            params = vae.parameters(),\n",
        "            lr = LRN_RATE,\n",
        "            weight_decay = 1e-5,\n",
        "        )\n",
        "    \n",
        "    num_params = sum(p.numel() for p in vae.parameters() if p.requires_grad)\n",
        "    print('Number of parameters: %d' % num_params)\n",
        "    \n",
        "    vae.train()\n",
        "    \n",
        "    if evaluate:\n",
        "        train_recon_loss, train_loss = [], []\n",
        "        test_recon_loss, test_loss = [], []\n",
        "    \n",
        "    print(\"Training: \", end = \"\")\n",
        "    for epoch in range(VAE_EPOCH):\n",
        "        if evaluate:\n",
        "            train_loss.append(0)\n",
        "            train_recon_loss.append(0)\n",
        "        num_batches = 0\n",
        "        \n",
        "        for image_batch, _ in train_dataloader:\n",
        "            \n",
        "            image_batch = image_batch.to(device)\n",
        "            image_batch = cnn.penultimate_layers(image_batch)\n",
        "    \n",
        "            image_batch_recon, latent_mu, latent_logvar = vae(image_batch)\n",
        "            #plot(image_batch, image_batch_recon)\n",
        "            \n",
        "            recon_loss = reconstruction_error(image_batch_recon, image_batch)\n",
        "            loss = vae_loss(recon_loss, latent_mu, latent_logvar)\n",
        "            \n",
        "            optimizer.zero_grad()\n",
        "            loss.backward()\n",
        "            optimizer.step()\n",
        "            \n",
        "            if evaluate:\n",
        "                train_loss[-1] += loss.item()\n",
        "                train_recon_loss[-1] += recon_loss\n",
        "                \n",
        "            num_batches += 1\n",
        "            \n",
        "        if evaluate:\n",
        "            train_loss[-1] /= num_batches\n",
        "            train_loss[-1] /= TRAIN_BATCH_SIZE\n",
        "            train_recon_loss[-1] /= num_batches\n",
        "            train_recon_loss[-1] /= TRAIN_BATCH_SIZE\n",
        "        \n",
        "            recon_loss_avg, loss_avg = eval_model(vae)\n",
        "            test_recon_loss.append(recon_loss_avg / TEST_BATCH_SIZE)\n",
        "            test_loss.append(loss_avg / TEST_BATCH_SIZE)\n",
        "            \n",
        "            recon_loss_avg, loss_avg = eval_model(vae)\n",
        "\n",
        "            vae.train()\n",
        "        \n",
        "        print(\"%d, \" % (epoch+1), end = \"\")\n",
        "        \n",
        "    print()\n",
        "    if evaluate:\n",
        "        return (\n",
        "            vae, optimizer,\n",
        "            [np.array(train_loss), np.array(train_recon_loss)],\n",
        "            [np.array(test_loss), np.array(test_recon_loss)],\n",
        "        )\n",
        "    return vae, optimizer"
      ],
      "execution_count": null,
      "outputs": []
    },
    {
      "cell_type": "code",
      "metadata": {
        "id": "isT5TzCPJEE1"
      },
      "source": [
        "def eval_model(vae):\n",
        "    vae.eval()\n",
        "    \n",
        "    test_loss_avg, test_recon_loss_avg, num_batches = 0, 0, 0\n",
        "    sum = 0\n",
        "    for image_batch, _ in test_dataloader:\n",
        "        \n",
        "        with torch.no_grad():\n",
        "        \n",
        "            image_batch = image_batch.to(device)\n",
        "            image_batch = cnn.penultimate_layers(image_batch)\n",
        "    \n",
        "            image_batch_recon, latent_mu, latent_logvar = vae(image_batch)\n",
        "            #plot(image_batch, image_batch_recon)\n",
        "            \n",
        "            recon_loss = reconstruction_error(image_batch_recon, image_batch)\n",
        "            loss = vae_loss(recon_loss, latent_mu, latent_logvar)\n",
        "    \n",
        "            test_recon_loss_avg += recon_loss\n",
        "            test_loss_avg += loss.item()\n",
        "            num_batches += 1\n",
        "        \n",
        "    test_recon_loss_avg /= num_batches\n",
        "    test_loss_avg /= num_batches\n",
        "\n",
        "    return test_recon_loss_avg, test_loss_avg\n",
        "    #print('average reconstruction error: %f' % (test_recon_loss_avg))\n",
        "    #print('average error: %f' % (test_loss_avg))"
      ],
      "execution_count": null,
      "outputs": []
    },
    {
      "cell_type": "code",
      "metadata": {
        "id": "2FVd05s4I4YM"
      },
      "source": [
        "def plot_loss(train_losses, test_losses):\n",
        "    plt.ion()\n",
        "\n",
        "    plotlabels = [\"Total error\", \"Reconstruction error\", \"KL divergence\"]\n",
        "    train_losses.append(train_losses[0] - train_losses[1])\n",
        "    test_losses.append(test_losses[0] - test_losses[1])\n",
        "    \n",
        "    ncols = 3\n",
        "    fig, ax = plt.subplots(ncols = ncols, figsize = (9, 2.5))\n",
        "    \n",
        "    for i in range(ncols): \n",
        "        ax[i].plot(train_losses[i], c = \"blue\", label = \"training\")\n",
        "        ax[i].plot(test_losses[i], c = \"green\", label = \"test\")\n",
        "            \n",
        "        ax[i].set_title(plotlabels[i])\n",
        "        \n",
        "    plt.xlabel('Epochs')\n",
        "    plt.tight_layout()\n",
        "    plt.legend()\n",
        "    #plt.show()\n",
        "    plt.savefig(os.path.join(RESULTS_FOLDER, \"training_curve.png\"), dpi = 600)"
      ],
      "execution_count": null,
      "outputs": []
    },
    {
      "cell_type": "markdown",
      "metadata": {
        "id": "FLxjmlgD0-li"
      },
      "source": [
        "### Load VAE"
      ]
    },
    {
      "cell_type": "code",
      "metadata": {
        "id": "JzBI7hT1Ybpd"
      },
      "source": [
        "def load_vae(folder_name, vae_name, optimizer_name = \"adam.pth\"):\n",
        "    folder_name = os.path.join(RESULTS, folder_name)\n",
        "    \n",
        "    vae = VariationalAutoencoder()\n",
        "    vae.load_state_dict(torch.load(os.path.join(folder_name, vae_name)))\n",
        "    vae.to(device)\n",
        "    optimizer = torch.optim.Adam(\n",
        "        params = vae.parameters(),\n",
        "        lr = LRN_RATE,\n",
        "        weight_decay = 1e-5,\n",
        "    )\n",
        "    optimizer.load_state_dict(torch.load(\n",
        "        os.path.join(folder_name, optimizer_name)\n",
        "    ))\n",
        "    return vae, optimizer"
      ],
      "execution_count": null,
      "outputs": []
    },
    {
      "cell_type": "markdown",
      "metadata": {
        "id": "bxImy1XR6FHR"
      },
      "source": [
        "# RRH for Gaussian Mixtures"
      ]
    },
    {
      "cell_type": "code",
      "metadata": {
        "id": "2H2L9XvS6Kwj"
      },
      "source": [
        "def scale_to_cov(scales):\n",
        "    return np.vstack([np.expand_dims(np.diagflat(s), 0) for s in scales])\n",
        "\n",
        "def pool_covariance(means, covs):\n",
        "    K = covs.shape[0] \n",
        "    p = np.repeat(1/K, K)\n",
        "    cov_ = np.einsum('ijk,i->jk', covs, p) + np.einsum('ij,ik,i->jk', means, means, p)\n",
        "    mu_ = np.einsum('ij,i->j', means, p)\n",
        "    return cov_ - np.einsum('i,j->ij', mu_, mu_)\n",
        "    \n",
        "def mvn_renyi(C, q=1):\n",
        "    \"\"\" Computes the Rényi heterogeneity for a multivariate Gaussian \n",
        "    Arguments: \n",
        "        C: `ndarray((n,n))`. Covariance matrix\n",
        "        q: `0<float`. Order of the heterogeneity\n",
        "    Returns: \n",
        "        `float`\n",
        "    \"\"\"\n",
        "    n = C.shape[0]\n",
        "    SqrtDetC = np.sqrt(np.linalg.det(C))\n",
        "    if q == 1: \n",
        "        out = (2*np.pi*np.e)**(n/2) * SqrtDetC\n",
        "    elif q == np.inf: \n",
        "        out = (2*np.pi)**(n/2) * SqrtDetC\n",
        "    elif q!=1 and q!=0 and q!=np.inf:\n",
        "        out = ((2*np.pi)**(n/2))*(q**(n/(2*(q-1))))*SqrtDetC\n",
        "    return out\n",
        "\n",
        "def mvn_renyi_alpha(C,  q=1):\n",
        "    \"\"\" Computes the alpha-heterogeneity for a Gaussian mixture where each sample has equal weight\n",
        "\n",
        "    Arguments: \n",
        "\n",
        "        cov: `ndarray((nsamples, n, n))`. Covariance matrices \n",
        "        q: `0<float`. Order of the heterogeneity metric\n",
        "\n",
        "    Returns: \n",
        "\n",
        "        `float`. The alpha-heterogeneity\n",
        "    \"\"\"\n",
        "    K, n, _ = C.shape\n",
        "    p = np.repeat(1/K, K)\n",
        "    if q == 1:\n",
        "        out = np.exp((n + np.sum(p*np.log(np.linalg.det(2*np.pi*C))))/2)\n",
        "    elif q!=np.inf and q!=1 and q!=0:\n",
        "        wbar = (p**q)/np.sum(p**q)\n",
        "        out = ((2*np.pi)**(n/2))*np.sum(wbar*np.sqrt(np.linalg.det(C)))/(q**(n/2))**(1/(1-q))\n",
        "    return out"
      ],
      "execution_count": null,
      "outputs": []
    },
    {
      "cell_type": "markdown",
      "metadata": {
        "id": "RG67lA7u6pAY"
      },
      "source": [
        "## Calculation"
      ]
    },
    {
      "cell_type": "code",
      "metadata": {
        "id": "IinU-xeM6fg_"
      },
      "source": [
        "def calculate_rrh(vae, X = train_X, y = train_y):\n",
        "    gammas, alphas, betas = [], [], []\n",
        "    for i in range(10):\n",
        "        mu, logvar = vae.encoder(\n",
        "            cnn.penultimate_layers(torch.Tensor(X[y == i]).to(device)),\n",
        "        )\n",
        "        loc = mu.cpu().detach().numpy()\n",
        "        scale = logvar.exp().cpu().detach().numpy()\n",
        "        cov = scale_to_cov(scale)\n",
        "        gamma = mvn_renyi(pool_covariance(loc, cov), q=1)\n",
        "        alpha = mvn_renyi_alpha(cov,q=1)\n",
        "        beta = gamma/alpha\n",
        "        gammas.append(gamma)\n",
        "        alphas.append(alpha)\n",
        "        betas.append(beta)\n",
        "    return np.array(gammas), np.array(alphas), np.array(betas)\n",
        "\n",
        "\n",
        "def het_sigma(matrix, avg = None):\n",
        "    if avg == None:\n",
        "        avg = het_avg(matrix)\n",
        "    n = len(matrix)\n",
        "    mse = (matrix[0] - avg) ** 2\n",
        "    for i in range(1, n):\n",
        "        mse += (matrix[i] - avg) ** 2\n",
        "    return np.sqrt(mse / n)\n",
        "\n",
        "def het_sum(matrix):\n",
        "    sum = matrix[0] + matrix[1]\n",
        "    for i in range(2, len(matrix)):\n",
        "        sum += matrix[i]\n",
        "    return sum\n",
        "\n",
        "def het_avg(matrix):\n",
        "    return het_sum(matrix) / len(matrix)"
      ],
      "execution_count": null,
      "outputs": []
    },
    {
      "cell_type": "markdown",
      "metadata": {
        "id": "PmOtP6Lb1Rro"
      },
      "source": [
        "## Plotting"
      ]
    },
    {
      "cell_type": "code",
      "metadata": {
        "id": "45NMm0ye1Qln"
      },
      "source": [
        "def plot_rrh(gammas, alphas, betas, filename, sigmas = None):\n",
        "    if not (len(gammas) == len(alphas) or len(gammas) == len(betas)):\n",
        "        sys.exit(\"Mismatched matrix size\")\n",
        "    n = len(gammas)\n",
        "    hetvalues = [gammas, alphas, betas]\n",
        "    plotlabels = [r\"Pooled\", r\"Within-Observation\", r\"Between-Observation\"]\n",
        "    \n",
        "    fig, ax = plt.subplots(ncols=3, figsize=(9, 2.5))\n",
        "    ax[0].set_ylabel(\"Heterogeneity\")\n",
        "    \n",
        "    for i in range(3): \n",
        "        ax[i].set_title(plotlabels[i])\n",
        "        ax[i].set_xticks(np.arange(10))\n",
        "        ax[i].set_xticklabels(np.arange(10))\n",
        "        ax[i].bar(\n",
        "            np.arange(10),\n",
        "            hetvalues[i],\n",
        "            facecolor = plt.get_cmap(\"Greys\")(0.4), \n",
        "            edgecolor = \"black\",\n",
        "        )\n",
        "        if not sigmas == None:\n",
        "            ax[i].errorbar(\n",
        "                np.arange(10),\n",
        "                hetvalues[i],\n",
        "                yerr = sigmas[i],\n",
        "                fmt = \"none\",\n",
        "                ecolor = \"r\",\n",
        "                capsize = 3,\n",
        "                label = \"std deviation\",\n",
        "            )\n",
        "            ax[i].errorbar(\n",
        "                np.arange(10),\n",
        "                hetvalues[i],\n",
        "                yerr = sigmas[i] / np.sqrt(n),\n",
        "                fmt = \"none\",\n",
        "                ecolor = \"b\",\n",
        "                capsize = 3,\n",
        "                label = \"std error\",\n",
        "            )\n",
        "    plt.tight_layout()\n",
        "    #plt.show()\n",
        "    plt.savefig(os.path.join(RESULTS_FOLDER, filename + \".png\"), dpi = 600)"
      ],
      "execution_count": null,
      "outputs": []
    },
    {
      "cell_type": "markdown",
      "metadata": {
        "id": "nneHSghNV0qN"
      },
      "source": [
        "# Experiments"
      ]
    },
    {
      "cell_type": "code",
      "metadata": {
        "id": "dbjafI3aSErm"
      },
      "source": [
        "#cnn = create_and_train_cnn()\n",
        "cnn = load_cnn(\"12-18_epoch=14.pth\")\n",
        "freeze(cnn)"
      ],
      "execution_count": null,
      "outputs": []
    },
    {
      "cell_type": "code",
      "metadata": {
        "id": "z3T9hTKgBrjy",
        "colab": {
          "base_uri": "https://localhost:8080/"
        },
        "outputId": "5cdee883-8019-4153-a227-f9f53f1d128a"
      },
      "source": [
        "RESULTS = os.path.join(MY_DRIVE, \"results\")\n",
        "mkdir(RESULTS)\n",
        "\n",
        "RESULTS_FOLDER = os.path.join(\n",
        "    RESULTS, datetime.datetime.now().strftime(\"%m-%d_%H-%M\"),\n",
        ")\n",
        "mkdir(RESULTS_FOLDER)"
      ],
      "execution_count": null,
      "outputs": [
        {
          "output_type": "stream",
          "text": [
            "Directory /content/gdrive/My Drive/results already exists!\n",
            "Directory /content/gdrive/My Drive/results/12-18_01-01 already exists!\n"
          ],
          "name": "stdout"
        }
      ]
    },
    {
      "cell_type": "code",
      "metadata": {
        "id": "86cSR8lZ4AK7",
        "colab": {
          "base_uri": "https://localhost:8080/"
        },
        "outputId": "a67c8dd3-cc07-4e32-9a4e-eee3b7cb6002"
      },
      "source": [
        "VAE_EPOCH = 10\n",
        "epoch = 0\n",
        "#vae1, optimizer = load_vae(\"12-18_00-27\", vae_name = \"vae_epoch=30.pth\")\n",
        "vae1, optimizer, train_losses, test_losses = train_vae(\n",
        "    #vae = vae1, optimizer = optimizer,\n",
        "    evaluate = True,\n",
        ")\n",
        "\n",
        "torch.save(vae1.state_dict(), os.path.join(\n",
        "    RESULTS_FOLDER, \"vae_epoch=\" + str(epoch + VAE_EPOCH) + \".pth\"\n",
        "))\n",
        "torch.save(optimizer.state_dict(), os.path.join(RESULTS_FOLDER, \"adam.pth\"))\n",
        "with open(os.path.join(RESULTS_FOLDER, \"vae.txt\"), \"w+\") as f:\n",
        "    f.write(str(vae1))\n",
        "drive.flush_and_unmount()\n",
        "drive.mount(GDRIVE)"
      ],
      "execution_count": null,
      "outputs": [
        {
          "output_type": "stream",
          "text": [
            "Number of parameters: 17284\n",
            "Training: 1, 2, 3, 4, 5, 6, 7, 8, 9, 10, \n",
            "Mounted at /content/gdrive\n"
          ],
          "name": "stdout"
        }
      ]
    },
    {
      "cell_type": "code",
      "metadata": {
        "id": "tZjD-_BKR7M_"
      },
      "source": [
        "recon_loss_avg, loss_avg = eval_model(vae1)"
      ],
      "execution_count": null,
      "outputs": []
    },
    {
      "cell_type": "code",
      "metadata": {
        "id": "4T3nlJyTB04R",
        "colab": {
          "base_uri": "https://localhost:8080/",
          "height": 185
        },
        "outputId": "deca29f8-46d8-455e-cf7f-75d8868c0267"
      },
      "source": [
        "plot_loss(train_losses, test_losses)"
      ],
      "execution_count": null,
      "outputs": [
        {
          "output_type": "display_data",
          "data": {
            "image/png": "[encoded data removed]",
            "text/plain": [
              "<Figure size 648x180 with 3 Axes>"
            ]
          },
          "metadata": {
            "tags": []
          }
        }
      ]
    },
    {
      "cell_type": "code",
      "metadata": {
        "id": "01jw4KimA0g4",
        "colab": {
          "base_uri": "https://localhost:8080/",
          "height": 185
        },
        "outputId": "71d5b1c6-8a79-49ef-9382-4783b299b727"
      },
      "source": [
        "gammas, alphas, betas = calculate_rrh(vae1)\n",
        "plot_rrh(gammas, alphas, betas, filename = \"het_train\")"
      ],
      "execution_count": null,
      "outputs": [
        {
          "output_type": "display_data",
          "data": {
            "image/png": "[encoded data removed]",
            "text/plain": [
              "<Figure size 648x180 with 3 Axes>"
            ]
          },
          "metadata": {
            "tags": []
          }
        }
      ]
    },
    {
      "cell_type": "code",
      "metadata": {
        "id": "QH0OPOV5ssIg",
        "colab": {
          "base_uri": "https://localhost:8080/",
          "height": 185
        },
        "outputId": "59fe228c-1b7e-4175-ea68-d37c4f4a0608"
      },
      "source": [
        "gammas, alphas, betas = calculate_rrh(\n",
        "    vae1, X = test_X, y = test_y,\n",
        ")\n",
        "plot_rrh(gammas, alphas, betas, filename = \"het_test\")"
      ],
      "execution_count": null,
      "outputs": [
        {
          "output_type": "display_data",
          "data": {
            "image/png": "[encoded data removed]",
            "text/plain": [
              "<Figure size 648x180 with 3 Axes>"
            ]
          },
          "metadata": {
            "tags": []
          }
        }
      ]
    }
  ]
}