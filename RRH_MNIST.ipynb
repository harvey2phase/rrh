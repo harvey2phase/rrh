{
  "nbformat": 4,
  "nbformat_minor": 0,
  "metadata": {
    "colab": {
      "name": "RRH_MNIST.ipynb",
      "provenance": [],
      "collapsed_sections": [
        "bxImy1XR6FHR"
      ],
      "authorship_tag": "ABX9TyOjP3AD7XoR8ILwdML6gjGF"
    },
    "kernelspec": {
      "name": "python3",
      "display_name": "Python 3"
    },
    "accelerator": "GPU"
  },
  "cells": [
    {
      "cell_type": "code",
      "metadata": {
        "id": "nlBt0FWz8iXu"
      },
      "source": [
        "import os\n",
        "import urllib\n",
        "import numpy as np\n",
        "import matplotlib.pyplot as plt"
      ],
      "execution_count": 1,
      "outputs": []
    },
    {
      "cell_type": "code",
      "metadata": {
        "id": "v6LIvWHvxHV3"
      },
      "source": [
        "import torch\n",
        "import torch.nn as nn\n",
        "import torch.nn.functional as functional\n",
        "import torchvision.transforms as transforms\n",
        "\n",
        "from torch.utils.data import DataLoader\n",
        "from torchvision.datasets import MNIST"
      ],
      "execution_count": 2,
      "outputs": []
    },
    {
      "cell_type": "markdown",
      "metadata": {
        "id": "cuXs60E66A8k"
      },
      "source": [
        "# Definitions"
      ]
    },
    {
      "cell_type": "markdown",
      "metadata": {
        "id": "kAg4fEcS9156"
      },
      "source": [
        "## Variational Autoencoder (VAE)"
      ]
    },
    {
      "cell_type": "code",
      "metadata": {
        "id": "DoZjwrH3xpei"
      },
      "source": [
        "LAT_DIM = 2\n",
        "EPOCH_NUM = 50\n",
        "BATCH_SIZE = 128\n",
        "CAPACITY = 64\n",
        "LRN_RATE = 1e-3\n",
        "VAR_BETA = 1\n",
        "\n",
        "KERN_SIZE = 4\n",
        "STRIDE = 2\n",
        "PAD = 1\n",
        "\n",
        "GPU = True"
      ],
      "execution_count": 3,
      "outputs": []
    },
    {
      "cell_type": "code",
      "metadata": {
        "id": "UkcWN5LXyCEo"
      },
      "source": [
        "class Encoder(nn.Module):\n",
        "    def __init__(self):\n",
        "        super(Encoder, self).__init__()\n",
        "        \n",
        "        # CAPACITY * 14 * 14\n",
        "        self.conv1 = nn.Conv2d(\n",
        "            in_channels = 1,\n",
        "            out_channels = CAPACITY,\n",
        "            kernel_size = KERN_SIZE,\n",
        "            stride = STRIDE,\n",
        "            padding = PAD,\n",
        "        )\n",
        "        # CAPACITY * 7 * 7\n",
        "        self.conv2 = nn.Conv2d(\n",
        "            in_channels = CAPACITY,\n",
        "            out_channels = CAPACITY * 2,\n",
        "            kernel_size = KERN_SIZE,\n",
        "            stride = STRIDE,\n",
        "            padding = PAD,\n",
        "        )\n",
        "        self.fc_mu = nn.Linear(\n",
        "            in_features = CAPACITY * 2 * 7 * 7,\n",
        "            out_features = LAT_DIM,\n",
        "        )\n",
        "        self.fc_logvar = nn.Linear(\n",
        "            in_features = CAPACITY * 2 * 7 * 7,\n",
        "            out_features = LAT_DIM,\n",
        "        )\n",
        "        \n",
        "    def forward(self, x):\n",
        "        x = functional.relu(self.conv2(\n",
        "            functional.relu(self.conv1(x))\n",
        "        ))\n",
        "        x = x.view(x.size(0), -1)\n",
        "        x_mu = self.fc_mu(x)\n",
        "        x_logvar = self.fc_logvar(x)\n",
        "        return x_mu, x_logvar"
      ],
      "execution_count": 4,
      "outputs": []
    },
    {
      "cell_type": "code",
      "metadata": {
        "id": "35jQ8f41zRFg"
      },
      "source": [
        "class Decoder(nn.Module):\n",
        "    def __init__(self):\n",
        "        super(Decoder, self).__init__()\n",
        "        \n",
        "        self.fc = nn.Linear(\n",
        "            in_features = LAT_DIM,\n",
        "            out_features = CAPACITY * 2 * 7 * 7,\n",
        "        )\n",
        "        self.conv2 = nn.ConvTranspose2d(\n",
        "            in_channels = CAPACITY * 2,\n",
        "            out_channels = CAPACITY,\n",
        "            kernel_size = KERN_SIZE,\n",
        "            stride = STRIDE,\n",
        "            padding = PAD,\n",
        "        )\n",
        "        self.conv1 = nn.ConvTranspose2d(\n",
        "            in_channels = CAPACITY,\n",
        "            out_channels = 1,\n",
        "            kernel_size = KERN_SIZE,\n",
        "            stride = STRIDE,\n",
        "            padding = PAD,\n",
        "        )\n",
        "\n",
        "    def forward(self, x):\n",
        "        x = self.fc(x)\n",
        "        return torch.sigmoid(self.conv1(\n",
        "                functional.relu(self.conv2(\n",
        "                    x.view(x.size(0), CAPACITY * 2, 7, 7)\n",
        "            ))\n",
        "        ))"
      ],
      "execution_count": 5,
      "outputs": []
    },
    {
      "cell_type": "code",
      "metadata": {
        "id": "PCQPtw5a3DQI"
      },
      "source": [
        "class VariationalAutoencoder(nn.Module):\n",
        "    def __init__(self):\n",
        "        super(VariationalAutoencoder, self).__init__()\n",
        "        \n",
        "        self.encoder = Encoder()\n",
        "        self.decoder = Decoder()\n",
        "\n",
        "    def forward(self, x):\n",
        "        latent_mu, latent_logvar = self.encoder(x)\n",
        "        latent = self.latent_sample(latent_mu, latent_logvar)\n",
        "        x_recon = self.decoder(latent)\n",
        "        return x_recon, latent_mu, latent_logvar\n",
        "\n",
        "    def latent_sample(self, mu, logvar):\n",
        "        if self.training:\n",
        "            # the reparameterization trick\n",
        "            std = logvar.mul(0.5).exp_()\n",
        "            eps = torch.empty_like(std).normal_()\n",
        "            return eps.mul(std).add_(mu)\n",
        "        else:\n",
        "            return mu"
      ],
      "execution_count": 6,
      "outputs": []
    },
    {
      "cell_type": "code",
      "metadata": {
        "id": "e2CrBYQU4e8r"
      },
      "source": [
        "def reconstruction_erorr(recon_x, x):\n",
        "    return functional.binary_cross_entropy(\n",
        "        recon_x.view(-1, 784),\n",
        "        x.view(-1, 784),\n",
        "        reduction = \"sum\",\n",
        "    )\n",
        "\n",
        "def vae_loss(recon_loss, mu, logvar):\n",
        "    kl_divergence = -0.5 * torch.sum(1 + logvar - mu.pow(2) - logvar.exp())\n",
        "    return recon_loss + VAR_BETA * kl_divergence"
      ],
      "execution_count": 7,
      "outputs": []
    },
    {
      "cell_type": "markdown",
      "metadata": {
        "id": "bxImy1XR6FHR"
      },
      "source": [
        "## RRH for Gaussian Mixtures"
      ]
    },
    {
      "cell_type": "code",
      "metadata": {
        "id": "2H2L9XvS6Kwj"
      },
      "source": [
        "def mvn_renyi(C, q=1):\n",
        "    \"\"\" Computes the Rényi heterogeneity for a multivariate Gaussian \n",
        "    Arguments: \n",
        "        C: `ndarray((n,n))`. Covariance matrix\n",
        "        q: `0<float`. Order of the heterogeneity\n",
        "    Returns: \n",
        "        `float`\n",
        "    \"\"\"\n",
        "    n = C.shape[0]\n",
        "    SqrtDetC = np.sqrt(np.linalg.det(C))\n",
        "    if q == 1: \n",
        "        out = (2*np.pi*np.e)**(n/2) * SqrtDetC\n",
        "    elif q == np.inf: \n",
        "        out = (2*np.pi)**(n/2) * SqrtDetC\n",
        "    elif q!=1 and q!=0 and q!=np.inf:\n",
        "        out = ((2*np.pi)**(n/2))*(q**(n/(2*(q-1))))*SqrtDetC\n",
        "    return out"
      ],
      "execution_count": 8,
      "outputs": []
    },
    {
      "cell_type": "code",
      "metadata": {
        "id": "TkLYVMBu6fDn"
      },
      "source": [
        "def mvn_renyi_alpha(C,  q=1):\n",
        "    \"\"\" Computes the alpha-heterogeneity for a Gaussian mixture where each sample has equal weight\n",
        "\n",
        "    Arguments: \n",
        "\n",
        "        cov: `ndarray((nsamples, n, n))`. Covariance matrices \n",
        "        q: `0<float`. Order of the heterogeneity metric\n",
        "\n",
        "    Returns: \n",
        "\n",
        "        `float`. The alpha-heterogeneity\n",
        "    \"\"\"\n",
        "    K, n, _ = C.shape\n",
        "    p = np.repeat(1/K, K)\n",
        "    if q == 1:\n",
        "        out = np.exp((n + np.sum(p*np.log(np.linalg.det(2*np.pi*C))))/2)\n",
        "    elif q!=np.inf and q!=1 and q!=0:\n",
        "        wbar = (p**q)/np.sum(p**q)\n",
        "        out = ((2*np.pi)**(n/2))*np.sum(wbar*np.sqrt(np.linalg.det(C)))/(q**(n/2))**(1/(1-q))\n",
        "    return out\n"
      ],
      "execution_count": 9,
      "outputs": []
    },
    {
      "cell_type": "code",
      "metadata": {
        "id": "4aDzvMEx_X9r"
      },
      "source": [
        "def scale_to_cov(scales):\n",
        "    return np.vstack([np.expand_dims(np.diagflat(s), 0) for s in scales])"
      ],
      "execution_count": 10,
      "outputs": []
    },
    {
      "cell_type": "code",
      "metadata": {
        "id": "DS7dTSHl_e2i"
      },
      "source": [
        "def pool_covariance(means, covs):\n",
        "    K = covs.shape[0] \n",
        "    p = np.repeat(1/K, K)\n",
        "    cov_ = np.einsum('ijk,i->jk', covs, p) + np.einsum('ij,ik,i->jk', means, means, p)\n",
        "    mu_ = np.einsum('ij,i->j', means, p)\n",
        "    return cov_ - np.einsum('i,j->ij', mu_, mu_)"
      ],
      "execution_count": 11,
      "outputs": []
    },
    {
      "cell_type": "markdown",
      "metadata": {
        "id": "hfwhdEx46mFx"
      },
      "source": [
        "# MNIST Experiments"
      ]
    },
    {
      "cell_type": "markdown",
      "metadata": {
        "id": "qXN-NstR42nu"
      },
      "source": [
        "## Make MNIST training and evaluation sets"
      ]
    },
    {
      "cell_type": "code",
      "metadata": {
        "id": "R9VbzfzV47ON"
      },
      "source": [
        "img_transform = transforms.Compose([\n",
        "    transforms.ToTensor()\n",
        "])\n",
        "\n",
        "def load_mnist(train):\n",
        "    dataset = MNIST(\n",
        "        root = './data/MNIST',\n",
        "        download = True,\n",
        "        train = train,\n",
        "        transform = img_transform,\n",
        "    )\n",
        "    return DataLoader(dataset, batch_size = BATCH_SIZE, shuffle = True)\n",
        "\n",
        "train_dataloader = load_mnist(train = True)\n",
        "test_dataloader = load_mnist(train = False)"
      ],
      "execution_count": 12,
      "outputs": []
    },
    {
      "cell_type": "code",
      "metadata": {
        "id": "0IMlt_q67tJo"
      },
      "source": [
        "# Place into numpy arrays for easier manipulation\n",
        "traindata = list(train_dataloader)\n",
        "traindata = [[sample[0].numpy(), sample[1].numpy()] for sample in traindata]\n",
        "X = np.vstack([sample[0] for sample in traindata])\n",
        "y = np.hstack([sample[1] for sample in traindata])"
      ],
      "execution_count": 13,
      "outputs": []
    },
    {
      "cell_type": "markdown",
      "metadata": {
        "id": "Lvx8i8Ct9yMR"
      },
      "source": [
        "## Load and Evaluate Pre-Trained VAE"
      ]
    },
    {
      "cell_type": "markdown",
      "metadata": {
        "id": "2fw73AnrR4Ej"
      },
      "source": [
        "Load"
      ]
    },
    {
      "cell_type": "code",
      "metadata": {
        "id": "vNRYGlvQ5O77",
        "colab": {
          "base_uri": "https://localhost:8080/"
        },
        "outputId": "4e2660b4-2e83-49ff-a49c-6e8baab1975d"
      },
      "source": [
        "pretrained_vae = VariationalAutoencoder()\n",
        "device = torch.device(\"cuda:0\" if GPU and torch.cuda.is_available() else \"cpu\")\n",
        "pretrained_vae = pretrained_vae.to(device)\n",
        "\n",
        "filename = 'vae_2d.pth'\n",
        "\n",
        "if not os.path.isdir('./pretrained'):\n",
        "    os.makedirs('./pretrained')\n",
        "print('downloading ...')\n",
        "urllib.request.urlretrieve(\n",
        "    \"http://geometry.cs.ucl.ac.uk/creativeai/pretrained/\" + filename,\n",
        "    \"./pretrained/\" + filename,\n",
        ")\n",
        "pretrained_vae.load_state_dict(torch.load('./pretrained/' + filename))\n",
        "print('done')"
      ],
      "execution_count": 14,
      "outputs": [
        {
          "output_type": "stream",
          "text": [
            "downloading ...\n",
            "done\n"
          ],
          "name": "stdout"
        }
      ]
    },
    {
      "cell_type": "markdown",
      "metadata": {
        "id": "1yMsC2YNR8kq"
      },
      "source": [
        "Evaluate"
      ]
    },
    {
      "cell_type": "code",
      "metadata": {
        "id": "nRS4NG0mJJZY",
        "colab": {
          "base_uri": "https://localhost:8080/"
        },
        "outputId": "0c13730d-5769-411f-e6a8-9411eb2b4652"
      },
      "source": [
        "# set to evaluation mode\n",
        "pretrained_vae.eval()\n",
        "\n",
        "test_loss_avg, recon_loss_avg, num_batches = 0, 0, 0\n",
        "for image_batch, _ in test_dataloader:\n",
        "    \n",
        "    with torch.no_grad():\n",
        "    \n",
        "        image_batch = image_batch.to(device)\n",
        "\n",
        "        # vae reconstruction\n",
        "        image_batch_recon, latent_mu, latent_logvar = pretrained_vae(image_batch)\n",
        "\n",
        "        # reconstruction error\n",
        "        recon_loss = reconstruction_erorr(image_batch_recon, image_batch)\n",
        "        loss = vae_loss(recon_loss, latent_mu, latent_logvar)\n",
        "\n",
        "        recon_loss_avg += recon_loss\n",
        "        test_loss_avg += loss.item()\n",
        "        num_batches += 1\n",
        "    \n",
        "recon_loss_avg /= num_batches\n",
        "test_loss_avg /= num_batches\n",
        "print('average reconstruction error: %f' % (recon_loss_avg))\n",
        "print('average error: %f' % (test_loss_avg))"
      ],
      "execution_count": 15,
      "outputs": [
        {
          "output_type": "stream",
          "text": [
            "average reconstruction error: 18493.664062\n",
            "average error: 19294.807299\n"
          ],
          "name": "stdout"
        }
      ]
    },
    {
      "cell_type": "markdown",
      "metadata": {
        "id": "N7XQuBW63DmN"
      },
      "source": [
        "## Train and Evaluate VAE"
      ]
    },
    {
      "cell_type": "code",
      "metadata": {
        "id": "Lb5IpN6M3KKk"
      },
      "source": [
        "def train_one_model():\n",
        "\n",
        "    vae = VariationalAutoencoder()\n",
        "    device = torch.device(\"cuda:0\" if GPU and torch.cuda.is_available() else \"cpu\")\n",
        "    vae = vae.to(device)\n",
        "    \n",
        "    num_params = sum(p.numel() for p in vae.parameters() if p.requires_grad)\n",
        "    print('Number of parameters: %d' % num_params)\n",
        "    \n",
        "    optimizer = torch.optim.Adam(\n",
        "        params = vae.parameters(),\n",
        "        lr = LRN_RATE,\n",
        "        weight_decay = 1e-5,\n",
        "    )\n",
        "    \n",
        "    # set to training mode\n",
        "    vae.train()\n",
        "    \n",
        "    train_loss_avg = []\n",
        "    recon_loss_avg = []\n",
        "    \n",
        "    print('Training ...')\n",
        "    for epoch in range(EPOCH_NUM):\n",
        "        train_loss_avg.append(0)\n",
        "        recon_loss_avg.append(0)\n",
        "        num_batches = 0\n",
        "        \n",
        "        for image_batch, _ in train_dataloader:\n",
        "            \n",
        "            image_batch = image_batch.to(device)\n",
        "    \n",
        "            # vae reconstruction\n",
        "            image_batch_recon, latent_mu, latent_logvar = vae(image_batch)\n",
        "            \n",
        "            # reconstruction error\n",
        "            recon_loss = reconstruction_erorr(image_batch_recon, image_batch)\n",
        "            loss = vae_loss(recon_loss, latent_mu, latent_logvar)\n",
        "            \n",
        "            # backpropagation\n",
        "            optimizer.zero_grad()\n",
        "            loss.backward()\n",
        "            \n",
        "            # one step of the optmizer (using the gradients from backpropagation)\n",
        "            optimizer.step()\n",
        "            \n",
        "            recon_loss_avg[-1] += recon_loss\n",
        "            train_loss_avg[-1] += loss.item()\n",
        "            num_batches += 1\n",
        "            \n",
        "        train_loss_avg[-1] /= num_batches\n",
        "        recon_loss_avg[-1] /= num_batches\n",
        "        print('Epoch [%d / %d] | avg recon error: %f | avg error: %f' % (epoch+1, EPOCH_NUM, recon_loss_avg[-1], train_loss_avg[-1]))\n",
        "    return vae, recon_loss_avg, train_loss_avg"
      ],
      "execution_count": 16,
      "outputs": []
    },
    {
      "cell_type": "code",
      "metadata": {
        "id": "2FVd05s4I4YM"
      },
      "source": [
        "def plot_loss(train_loss_avg, i):\n",
        "    plt.ion()\n",
        "\n",
        "    fig = plt.figure(i)\n",
        "    plt.plot(train_loss_avg)\n",
        "    plt.xlabel('Epochs')\n",
        "    plt.ylabel('Loss')\n",
        "    plt.show()"
      ],
      "execution_count": 17,
      "outputs": []
    },
    {
      "cell_type": "code",
      "metadata": {
        "id": "isT5TzCPJEE1"
      },
      "source": [
        "def eval_model(vae):\n",
        "    vae.eval()\n",
        "    \n",
        "    test_loss_avg, test_recon_loss_avg, num_batches = 0, 0, 0\n",
        "    for image_batch, _ in test_dataloader:\n",
        "        \n",
        "        with torch.no_grad():\n",
        "        \n",
        "            image_batch = image_batch.to(device)\n",
        "    \n",
        "            # vae reconstruction\n",
        "            image_batch_recon, latent_mu, latent_logvar = vae(image_batch)\n",
        "    \n",
        "            # reconstruction error\n",
        "            recon_loss = reconstruction_erorr(image_batch_recon, image_batch)\n",
        "            loss = vae_loss(recon_loss, latent_mu, latent_logvar)\n",
        "    \n",
        "            test_recon_loss_avg += loss.item()\n",
        "            test_loss_avg += loss.item()\n",
        "            num_batches += 1\n",
        "        \n",
        "    test_recon_loss_avg /= num_batches\n",
        "    test_loss_avg /= num_batches\n",
        "    print('average reconstruction error: %f' % (test_recon_loss_avg))\n",
        "    print('average error: %f' % (test_loss_avg))"
      ],
      "execution_count": 18,
      "outputs": []
    },
    {
      "cell_type": "code",
      "metadata": {
        "colab": {
          "base_uri": "https://localhost:8080/"
        },
        "id": "5B7ZCjg4aXTd",
        "outputId": "b5fb802d-8dcf-40ee-d20d-b6ca7f9bc4f4"
      },
      "source": [
        "vae, recon_loss_avg, train_loss_avg = train_one_model()"
      ],
      "execution_count": 19,
      "outputs": [
        {
          "output_type": "stream",
          "text": [
            "Number of parameters: 308357\n",
            "Training ...\n",
            "Epoch [1 / 50] | avg recon error: 23136.955078 | avg error: 23826.311636\n",
            "Epoch [2 / 50] | avg recon error: 20546.132812 | avg error: 21206.350501\n",
            "Epoch [3 / 50] | avg recon error: 20048.673828 | avg error: 20719.049896\n",
            "Epoch [4 / 50] | avg recon error: 19732.339844 | avg error: 20416.143338\n",
            "Epoch [5 / 50] | avg recon error: 19482.240234 | avg error: 20182.680641\n",
            "Epoch [6 / 50] | avg recon error: 19291.181641 | avg error: 20004.435672\n",
            "Epoch [7 / 50] | avg recon error: 19121.689453 | avg error: 19844.441531\n",
            "Epoch [8 / 50] | avg recon error: 19004.119141 | avg error: 19737.238238\n",
            "Epoch [9 / 50] | avg recon error: 18897.384766 | avg error: 19634.735891\n",
            "Epoch [10 / 50] | avg recon error: 18808.896484 | avg error: 19552.952688\n",
            "Epoch [11 / 50] | avg recon error: 18735.757812 | avg error: 19485.941265\n",
            "Epoch [12 / 50] | avg recon error: 18669.607422 | avg error: 19424.636627\n",
            "Epoch [13 / 50] | avg recon error: 18616.498047 | avg error: 19374.478214\n",
            "Epoch [14 / 50] | avg recon error: 18554.300781 | avg error: 19314.957768\n",
            "Epoch [15 / 50] | avg recon error: 18501.558594 | avg error: 19267.129935\n",
            "Epoch [16 / 50] | avg recon error: 18465.716797 | avg error: 19232.888135\n",
            "Epoch [17 / 50] | avg recon error: 18412.259766 | avg error: 19181.589544\n",
            "Epoch [18 / 50] | avg recon error: 18378.488281 | avg error: 19151.679762\n",
            "Epoch [19 / 50] | avg recon error: 18336.898438 | avg error: 19111.552076\n",
            "Epoch [20 / 50] | avg recon error: 18313.189453 | avg error: 19090.817306\n",
            "Epoch [21 / 50] | avg recon error: 18276.562500 | avg error: 19055.934953\n",
            "Epoch [22 / 50] | avg recon error: 18250.207031 | avg error: 19031.953038\n",
            "Epoch [23 / 50] | avg recon error: 18221.097656 | avg error: 19005.099832\n",
            "Epoch [24 / 50] | avg recon error: 18180.781250 | avg error: 18968.032160\n",
            "Epoch [25 / 50] | avg recon error: 18164.738281 | avg error: 18951.555533\n",
            "Epoch [26 / 50] | avg recon error: 18125.367188 | avg error: 18915.072463\n",
            "Epoch [27 / 50] | avg recon error: 18113.666016 | avg error: 18902.556722\n",
            "Epoch [28 / 50] | avg recon error: 18085.509766 | avg error: 18879.188499\n",
            "Epoch [29 / 50] | avg recon error: 18059.636719 | avg error: 18854.240336\n",
            "Epoch [30 / 50] | avg recon error: 18043.205078 | avg error: 18836.571435\n",
            "Epoch [31 / 50] | avg recon error: 18031.330078 | avg error: 18827.775478\n",
            "Epoch [32 / 50] | avg recon error: 17994.384766 | avg error: 18792.428294\n",
            "Epoch [33 / 50] | avg recon error: 17986.947266 | avg error: 18786.081429\n",
            "Epoch [34 / 50] | avg recon error: 17971.414062 | avg error: 18771.286605\n",
            "Epoch [35 / 50] | avg recon error: 17938.589844 | avg error: 18739.496920\n",
            "Epoch [36 / 50] | avg recon error: 17930.513672 | avg error: 18734.349124\n",
            "Epoch [37 / 50] | avg recon error: 17914.197266 | avg error: 18716.706548\n",
            "Epoch [38 / 50] | avg recon error: 17891.343750 | avg error: 18695.969985\n",
            "Epoch [39 / 50] | avg recon error: 17885.027344 | avg error: 18691.822311\n",
            "Epoch [40 / 50] | avg recon error: 17868.509766 | avg error: 18675.570200\n",
            "Epoch [41 / 50] | avg recon error: 17862.394531 | avg error: 18669.992658\n",
            "Epoch [42 / 50] | avg recon error: 17828.978516 | avg error: 18638.431913\n",
            "Epoch [43 / 50] | avg recon error: 17825.384766 | avg error: 18635.810366\n",
            "Epoch [44 / 50] | avg recon error: 17811.636719 | avg error: 18621.472862\n",
            "Epoch [45 / 50] | avg recon error: 17797.837891 | avg error: 18608.519704\n",
            "Epoch [46 / 50] | avg recon error: 17787.884766 | avg error: 18599.011815\n",
            "Epoch [47 / 50] | avg recon error: 17763.308594 | avg error: 18575.778331\n",
            "Epoch [48 / 50] | avg recon error: 17770.371094 | avg error: 18584.206269\n",
            "Epoch [49 / 50] | avg recon error: 17748.492188 | avg error: 18562.423320\n",
            "Epoch [50 / 50] | avg recon error: 17739.738281 | avg error: 18555.258858\n"
          ],
          "name": "stdout"
        }
      ]
    },
    {
      "cell_type": "code",
      "metadata": {
        "colab": {
          "base_uri": "https://localhost:8080/",
          "height": 280
        },
        "id": "sxVIrG5OecCF",
        "outputId": "9dc54d59-f0e3-4cfc-9a38-0d508abddc4f"
      },
      "source": [
        "plot_loss(train_loss_avg, 0)"
      ],
      "execution_count": 20,
      "outputs": [
        {
          "output_type": "display_data",
          "data": {
            "image/png": "[encoded data removed]",
            "text/plain": [
              "<Figure size 432x288 with 1 Axes>"
            ]
          },
          "metadata": {
            "tags": [],
            "needs_background": "light"
          }
        }
      ]
    },
    {
      "cell_type": "code",
      "metadata": {
        "colab": {
          "base_uri": "https://localhost:8080/"
        },
        "id": "8pXYlsNie1Jp",
        "outputId": "fa505739-937b-4f83-bf97-3012cef51b2e"
      },
      "source": [
        "eval_model(vae)"
      ],
      "execution_count": 21,
      "outputs": [
        {
          "output_type": "stream",
          "text": [
            "average reconstruction error: 19025.824157\n",
            "average error: 19025.824157\n"
          ],
          "name": "stdout"
        }
      ]
    },
    {
      "cell_type": "markdown",
      "metadata": {
        "id": "RG67lA7u6pAY"
      },
      "source": [
        "## Experiment 1: $\\beta$ heterogeneity of each digit class"
      ]
    },
    {
      "cell_type": "code",
      "metadata": {
        "id": "IinU-xeM6fg_"
      },
      "source": [
        "def calculate_rrh(vae):\n",
        "    gammas = []\n",
        "    alphas = []\n",
        "    betas = []\n",
        "    for i in range(10):\n",
        "        mu, logvar = vae.encoder(torch.Tensor(X[y == i]).to(device))\n",
        "        loc = mu.cpu().detach().numpy()\n",
        "        scale = logvar.exp().cpu().detach().numpy()\n",
        "        cov = scale_to_cov(scale)\n",
        "        cov = scale_to_cov(scale)\n",
        "        gamma = mvn_renyi(pool_covariance(loc, cov), q=1)\n",
        "        alpha = mvn_renyi_alpha(cov,q=1)\n",
        "        beta = gamma/alpha\n",
        "        gammas.append(gamma)\n",
        "        alphas.append(alpha)\n",
        "        betas.append(beta)\n",
        "    return gammas, alphas, betas"
      ],
      "execution_count": 22,
      "outputs": []
    },
    {
      "cell_type": "code",
      "metadata": {
        "id": "xcRWRha365r-"
      },
      "source": [
        "def plot_rrh(gammas, alphas, betas):\n",
        "    hetvalues = [gammas, alphas, betas]\n",
        "    plotlabels = [r\"Pooled\", r\"Within-Observation\", r\"Between-Observation\"]\n",
        "    \n",
        "    fig, ax = plt.subplots(ncols=3, figsize=(9, 2.5))\n",
        "    ax[0].set_ylabel(\"Heterogeneity\")\n",
        "    \n",
        "    for i in range(3): \n",
        "        ax[i].set_title(plotlabels[i])\n",
        "        ax[i].set_xlabel(\"Digit\")\n",
        "        ax[i].set_xticks(np.arange(10))\n",
        "        ax[i].set_xticklabels(np.arange(10))\n",
        "        ax[i].bar(\n",
        "            np.arange(10),\n",
        "            hetvalues[i],\n",
        "            facecolor = plt.get_cmap(\"Greys\")(0.4), \n",
        "            edgecolor = \"black\",\n",
        "        )\n",
        "    plt.tight_layout()\n",
        "    plt.savefig(\"digit-class-heterogeneity.pdf\", bbox_inches=\"tight\")"
      ],
      "execution_count": 23,
      "outputs": []
    },
    {
      "cell_type": "markdown",
      "metadata": {
        "id": "btJuQ-U3QuuO"
      },
      "source": [
        "### 1.1 RRH on MNIST-trained VAE"
      ]
    },
    {
      "cell_type": "code",
      "metadata": {
        "colab": {
          "base_uri": "https://localhost:8080/",
          "height": 189
        },
        "id": "3L11PyWYfzol",
        "outputId": "c562d8b8-ea8d-454d-9134-1f931cb9af82"
      },
      "source": [
        "gammas, alphas, betas = calculate_rrh(vae)\n",
        "plot_rrh(gammas, alphas, betas)"
      ],
      "execution_count": 30,
      "outputs": [
        {
          "output_type": "display_data",
          "data": {
            "image/png": "[encoded data removed]",
            "text/plain": [
              "<Figure size 648x180 with 3 Axes>"
            ]
          },
          "metadata": {
            "tags": [],
            "needs_background": "light"
          }
        }
      ]
    },
    {
      "cell_type": "markdown",
      "metadata": {
        "id": "Y0rEBIdMQ1lS"
      },
      "source": [
        "### 1.2 RRH on Pre-trained VAE"
      ]
    },
    {
      "cell_type": "code",
      "metadata": {
        "colab": {
          "base_uri": "https://localhost:8080/",
          "height": 189
        },
        "id": "_nN1Kftyh42Z",
        "outputId": "9870c5c1-fe06-4125-df2a-f5f360a4705f"
      },
      "source": [
        "gammas, alphas, betas = calculate_rrh(pretrained_vae)\n",
        "plot_rrh(gammas, alphas, betas)"
      ],
      "execution_count": 31,
      "outputs": [
        {
          "output_type": "display_data",
          "data": {
            "image/png": "[encoded data removed]",
            "text/plain": [
              "<Figure size 648x180 with 3 Axes>"
            ]
          },
          "metadata": {
            "tags": [],
            "needs_background": "light"
          }
        }
      ]
    }
  ]
}